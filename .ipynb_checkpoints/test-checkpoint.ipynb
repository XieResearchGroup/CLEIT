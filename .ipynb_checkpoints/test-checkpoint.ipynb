{
 "cells": [
  {
   "cell_type": "code",
   "execution_count": 1,
   "metadata": {
    "pycharm": {
     "is_executing": false
    }
   },
   "outputs": [],
   "source": [
    "from tensorflow import keras\n",
    "import tensorflow as tf\n",
    "import data\n",
    "import data_config\n",
    "import preprocess_ccle_gdsc_utils\n",
    "import preprocess_xena_utils\n",
    "import loss\n",
    "import train\n",
    "from module import AE, VAE\n",
    "import os\n",
    "import pickle\n",
    "import utils\n",
    "import model_config\n",
    "import layer"
   ]
  },
  {
   "cell_type": "code",
   "execution_count": 2,
   "metadata": {
    "pycharm": {
     "is_executing": false,
     "name": "#%%\n"
    }
   },
   "outputs": [
    {
     "name": "stdout",
     "output_type": "stream",
     "text": [
      "Preprocessed data has 1270 samples and 19144 features\n"
     ]
    },
    {
     "name": "stderr",
     "output_type": "stream",
     "text": [
      "/Users/hedi/PycharmProjects/CLRN/data.py:77: DtypeWarning: Columns (20,30,31) have mixed types. Specify dtype option on import or set low_memory=False.\n",
      "  self.labeled_data, self.unlabeled_data, self.labeled_test_data = self._load_data()\n"
     ]
    },
    {
     "name": "stdout",
     "output_type": "stream",
     "text": [
      "Preprocessed data has 1697 samples and 18540 features\n",
      "Propagation Start!\n",
      "Preprocessed data has 9808 samples and 563 features\n",
      "Aligned dataframes have 563 features in common\n",
      "Aligned dataframes have 562 features in common\n"
     ]
    }
   ],
   "source": [
    "data_provider = data.DataProvider(feature_filter='FILE',\n",
    "                                      omics=['gex', 'mut'])"
   ]
  },
  {
   "cell_type": "code",
   "execution_count": null,
   "metadata": {},
   "outputs": [],
   "source": [
    "#sorted(data_provider.labeled_data['target'].columns.to_list())\n",
    "\n",
    "data_provider.labeled_data['gex'].describe()\n",
    "\n",
    "data_provider.unlabeled_data['gex'].describe()"
   ]
  },
  {
   "cell_type": "code",
   "execution_count": null,
   "metadata": {},
   "outputs": [],
   "source": []
  },
  {
   "cell_type": "code",
   "execution_count": null,
   "metadata": {},
   "outputs": [],
   "source": []
  },
  {
   "cell_type": "code",
   "execution_count": null,
   "metadata": {},
   "outputs": [],
   "source": []
  },
  {
   "cell_type": "code",
   "execution_count": null,
   "metadata": {},
   "outputs": [],
   "source": [
    "    train_dataset = tf.data.Dataset.from_tensor_slices(\n",
    "        (data_provider.unlabeled_data['gex'].values, data_provider.unlabeled_data['gex'].values))\n",
    "    val_dataset = tf.data.Dataset.from_tensor_slices(\n",
    "        (data_provider.labeled_data['gex'].values, data_provider.labeled_data['gex'].values))\n",
    "\n",
    "    gex_auto_encoder = VAE(latent_dim=model_config.encoder_latent_dimension,\n",
    "                           output_dim=data_provider.shape_dict['gex'],\n",
    "                           architecture=model_config.encoder_architecture,\n",
    "                           noise_fn=keras.layers.GaussianNoise,\n",
    "                           output_act_fn=keras.activations.relu,\n",
    "                           kernel_regularizer_l=model_config.kernel_regularizer_l)\n",
    "\n",
    "    gex_encoder, gex_pre_train_history_df = train.pre_train_gex_AE(auto_encoder=gex_auto_encoder,\n",
    "                                                                   train_dataset=train_dataset,\n",
    "                                                                   val_dataset=val_dataset,\n",
    "                                                                  max_epoch=10)\n"
   ]
  },
  {
   "cell_type": "code",
   "execution_count": null,
   "metadata": {},
   "outputs": [],
   "source": [
    "gex_pre_train_history_df"
   ]
  },
  {
   "cell_type": "code",
   "execution_count": null,
   "metadata": {},
   "outputs": [],
   "source": []
  },
  {
   "cell_type": "code",
   "execution_count": null,
   "metadata": {},
   "outputs": [],
   "source": [
    "    i = 0\n",
    "    train_dataset = tf.data.Dataset.from_tensor_slices(\n",
    "        (data_provider.labeled_data['gex'].iloc[data_provider.get_k_folds()[i][0]].values,\n",
    "         data_provider.labeled_data['target'].iloc[data_provider.get_k_folds()[i][0]].values))\n",
    "    val_dataset = tf.data.Dataset.from_tensor_slices(\n",
    "        (data_provider.labeled_data['gex'].iloc[data_provider.get_k_folds()[i][1]].values,\n",
    "         data_provider.labeled_data['target'].iloc[data_provider.get_k_folds()[i][1]].values))\n",
    "\n",
    "    gex_fine_tune_train_history, gex_fine_tune_validation_history = train.fine_tune_gex_encoder(\n",
    "        encoder=gex_encoder,\n",
    "        train_dataset=train_dataset,\n",
    "        val_dataset=val_dataset)"
   ]
  },
  {
   "cell_type": "code",
   "execution_count": null,
   "metadata": {},
   "outputs": [],
   "source": []
  },
  {
   "cell_type": "code",
   "execution_count": null,
   "metadata": {},
   "outputs": [],
   "source": []
  },
  {
   "cell_type": "code",
   "execution_count": null,
   "metadata": {},
   "outputs": [],
   "source": []
  },
  {
   "cell_type": "code",
   "execution_count": null,
   "metadata": {},
   "outputs": [],
   "source": [
    "    train_dataset = tf.data.Dataset.from_tensor_slices(\n",
    "        (data_provider.unlabeled_data['mut'].loc[data_provider.matched_index].append(data_provider.labeled_data['mut'].iloc[data_provider.get_k_folds()[i][0]]).values,\n",
    "         data_provider.unlabeled_data['mut'].loc[data_provider.matched_index].append(data_provider.labeled_data['mut'].iloc[data_provider.get_k_folds()[i][0]]).values,\n",
    "         data_provider.unlabeled_data['gex'].loc[data_provider.matched_index].append(data_provider.labeled_data['gex'].iloc[data_provider.get_k_folds()[i][0]]).values))\n",
    "\n",
    "\n",
    "\n",
    "    val_dataset = tf.data.Dataset.from_tensor_slices(\n",
    "        (data_provider.labeled_data['mut'].iloc[data_provider.get_k_folds()[i][1]].values,\n",
    "         data_provider.labeled_data['mut'].iloc[data_provider.get_k_folds()[i][1]].values,\n",
    "         data_provider.labeled_data['gex'].iloc[data_provider.get_k_folds()[i][1]].values))"
   ]
  },
  {
   "cell_type": "code",
   "execution_count": null,
   "metadata": {},
   "outputs": [],
   "source": [
    "    mut_auto_encoder = VAE(latent_dim=model_config.encoder_latent_dimension,\n",
    "                           output_dim=data_provider.shape_dict['mut'],\n",
    "                           architecture=model_config.encoder_architecture,\n",
    "                           noise_fn=keras.layers.GaussianNoise,\n",
    "                           output_act_fn=keras.activations.relu,\n",
    "                           kernel_regularizer_l=model_config.kernel_regularizer_l)\n",
    "\n",
    "\n",
    "    mut_encoder, mut_pre_train_history_df = train.pre_train_mut_AE(auto_encoder=mut_auto_encoder,\n",
    "                                                                   reference_encoder=gex_encoder,\n",
    "                                                                   train_dataset=train_dataset,\n",
    "                                                                   val_dataset=val_dataset,\n",
    "                                                                    alpha=1.0,\n",
    "                                                                   max_epoch=10,transmitter_flag=True, \n",
    "                                                                   transmission_loss_fn=loss.mmd_loss)"
   ]
  },
  {
   "cell_type": "code",
   "execution_count": null,
   "metadata": {},
   "outputs": [],
   "source": [
    "mut_pre_train_history_df"
   ]
  },
  {
   "cell_type": "code",
   "execution_count": null,
   "metadata": {},
   "outputs": [],
   "source": []
  },
  {
   "cell_type": "code",
   "execution_count": null,
   "metadata": {},
   "outputs": [],
   "source": [
    "    train_dataset = tf.data.Dataset.from_tensor_slices(\n",
    "        (data_provider.labeled_data['mut'].iloc[data_provider.get_k_folds()[i][0]].values,\n",
    "         data_provider.labeled_data['target'].iloc[data_provider.get_k_folds()[i][0]].values))\n",
    "    val_dataset = tf.data.Dataset.from_tensor_slices(\n",
    "        (data_provider.labeled_data['mut'].iloc[data_provider.get_k_folds()[i][1]].values,\n",
    "         data_provider.labeled_data['target'].iloc[data_provider.get_k_folds()[i][1]].values))\n",
    "\n",
    "    mut_fine_tune_train_history, mut_fine_tune_validation_history = train.fine_tune_mut_encoder(\n",
    "        encoder=mut_encoder,\n",
    "        train_dataset=train_dataset,\n",
    "        val_dataset=val_dataset\n",
    "    )"
   ]
  },
  {
   "cell_type": "code",
   "execution_count": 617,
   "metadata": {},
   "outputs": [],
   "source": [
    "encoded_x = gex_encoder(data_provider.labeled_data['gex'].iloc[:64,:].values)[0]"
   ]
  },
  {
   "cell_type": "code",
   "execution_count": 621,
   "metadata": {},
   "outputs": [
    {
     "data": {
      "text/plain": [
       "<tf.Tensor: shape=(), dtype=float32, numpy=18.071636>"
      ]
     },
     "execution_count": 621,
     "metadata": {},
     "output_type": "execute_result"
    }
   ],
   "source": [
    "loss.mmd_loss(encoded_x, encoded_x+1)"
   ]
  },
  {
   "cell_type": "code",
   "execution_count": 607,
   "metadata": {},
   "outputs": [],
   "source": [
    "history = []\n",
    "with open('history/history_mmd_False.pkl', 'rb') as fr:\n",
    "    try:\n",
    "        while True:\n",
    "            history.append(pickle.load(fr))\n",
    "    except EOFError:\n",
    "        pass"
   ]
  },
  {
   "cell_type": "code",
   "execution_count": 611,
   "metadata": {},
   "outputs": [
    {
     "data": {
      "text/plain": [
       "1"
      ]
     },
     "execution_count": 611,
     "metadata": {},
     "output_type": "execute_result"
    }
   ],
   "source": [
    "len(history)"
   ]
  },
  {
   "cell_type": "code",
   "execution_count": null,
   "metadata": {},
   "outputs": [],
   "source": []
  },
  {
   "cell_type": "code",
   "execution_count": 610,
   "metadata": {},
   "outputs": [
    {
     "ename": "IndexError",
     "evalue": "list index out of range",
     "output_type": "error",
     "traceback": [
      "\u001b[0;31m---------------------------------------------------------------------------\u001b[0m",
      "\u001b[0;31mIndexError\u001b[0m                                Traceback (most recent call last)",
      "\u001b[0;32m<ipython-input-610-cb7c939844f0>\u001b[0m in \u001b[0;36m<module>\u001b[0;34m\u001b[0m\n\u001b[0;32m----> 1\u001b[0;31m \u001b[0mplt\u001b[0m\u001b[0;34m.\u001b[0m\u001b[0mplot\u001b[0m\u001b[0;34m(\u001b[0m\u001b[0mhistory\u001b[0m\u001b[0;34m[\u001b[0m\u001b[0;36m1\u001b[0m\u001b[0;34m]\u001b[0m\u001b[0;34m[\u001b[0m\u001b[0;34m'loss'\u001b[0m\u001b[0;34m]\u001b[0m\u001b[0;34m,\u001b[0m \u001b[0mcolor\u001b[0m\u001b[0;34m=\u001b[0m\u001b[0;34m'b'\u001b[0m\u001b[0;34m,\u001b[0m \u001b[0mlabel\u001b[0m\u001b[0;34m=\u001b[0m\u001b[0;34m'train'\u001b[0m\u001b[0;34m)\u001b[0m\u001b[0;34m\u001b[0m\u001b[0;34m\u001b[0m\u001b[0m\n\u001b[0m\u001b[1;32m      2\u001b[0m \u001b[0mplt\u001b[0m\u001b[0;34m.\u001b[0m\u001b[0mplot\u001b[0m\u001b[0;34m(\u001b[0m\u001b[0mnp\u001b[0m\u001b[0;34m.\u001b[0m\u001b[0marray\u001b[0m\u001b[0;34m(\u001b[0m\u001b[0mhistory\u001b[0m\u001b[0;34m[\u001b[0m\u001b[0;36m2\u001b[0m\u001b[0;34m]\u001b[0m\u001b[0;34m[\u001b[0m\u001b[0;34m'loss'\u001b[0m\u001b[0;34m]\u001b[0m\u001b[0;34m)\u001b[0m\u001b[0;34m,\u001b[0m \u001b[0mcolor\u001b[0m\u001b[0;34m=\u001b[0m\u001b[0;34m'r'\u001b[0m\u001b[0;34m,\u001b[0m \u001b[0mlabel\u001b[0m\u001b[0;34m=\u001b[0m\u001b[0;34m'val'\u001b[0m\u001b[0;34m)\u001b[0m\u001b[0;34m\u001b[0m\u001b[0;34m\u001b[0m\u001b[0m\n\u001b[1;32m      3\u001b[0m \u001b[0;34m\u001b[0m\u001b[0m\n\u001b[1;32m      4\u001b[0m \u001b[0;31m#plt.title('mut fine-tuning')\u001b[0m\u001b[0;34m\u001b[0m\u001b[0;34m\u001b[0m\u001b[0;34m\u001b[0m\u001b[0m\n\u001b[1;32m      5\u001b[0m \u001b[0mplt\u001b[0m\u001b[0;34m.\u001b[0m\u001b[0mlegend\u001b[0m\u001b[0;34m(\u001b[0m\u001b[0;34m)\u001b[0m\u001b[0;34m\u001b[0m\u001b[0;34m\u001b[0m\u001b[0m\n",
      "\u001b[0;31mIndexError\u001b[0m: list index out of range"
     ]
    }
   ],
   "source": [
    "plt.plot(history[1]['loss'], color='b', label='train')\n",
    "plt.plot(np.array(history[2]['loss']), color='r', label='val')\n",
    "\n",
    "#plt.title('mut fine-tuning')\n",
    "plt.legend()\n",
    "#plt.ylabel('loss')"
   ]
  },
  {
   "cell_type": "code",
   "execution_count": null,
   "metadata": {},
   "outputs": [],
   "source": [
    "import matplotlib.pyplot as plt\n",
    "import seaborn as sns"
   ]
  },
  {
   "cell_type": "code",
   "execution_count": null,
   "metadata": {},
   "outputs": [],
   "source": []
  },
  {
   "cell_type": "code",
   "execution_count": null,
   "metadata": {},
   "outputs": [],
   "source": [
    "np.random.uniform(size=data_provider.labeled_data['target'].shape)"
   ]
  },
  {
   "cell_type": "code",
   "execution_count": 585,
   "metadata": {},
   "outputs": [],
   "source": [
    "\n",
    "import numpy as np\n",
    "import pandas as pd\n",
    "import seaborn as sns\n",
    "from scipy.stats import pearsonr, spearmanr\n",
    "from sklearn.metrics import mean_squared_error, r2_score\n",
    "from math import sqrt\n",
    "from collections import defaultdict\n",
    "\n",
    "truth_df = data_provider.labeled_test_data['target']\n",
    "\n",
    "pred_df = pd.read_csv('./predictions/AUC_contrastive_False_mut_only_pre_prediction.csv', index_col=0)\n",
    "pred_df = pred_df.loc[truth_df.index]\n",
    "\n",
    "# random_guess_base_df = pd.DataFrame(np.full_like(truth_df, fill_value=-1),\n",
    "#                                       index=truth_df.index,\n",
    "#                                       columns=truth_df.columns)\n",
    "# # random_guess_base_df = random_guess_base_df.assign(**truth_df.mean().to_dict())\n",
    "\n",
    "# pred_df = pd.DataFrame(np.random.uniform(size=truth_df.shape),\n",
    "#                                       index=truth_df.index,\n",
    "#                                       columns=truth_df.columns)\n",
    "\n",
    "\n",
    "\n"
   ]
  },
  {
   "cell_type": "code",
   "execution_count": 483,
   "metadata": {},
   "outputs": [
    {
     "data": {
      "text/plain": [
       "<module 'evaluate' from '/Users/hedi/PycharmProjects/CLRN/evaluate.py'>"
      ]
     },
     "execution_count": 483,
     "metadata": {},
     "output_type": "execute_result"
    }
   ],
   "source": [
    "importlib.reload(evaluate)"
   ]
  },
  {
   "cell_type": "code",
   "execution_count": null,
   "metadata": {},
   "outputs": [],
   "source": []
  },
  {
   "cell_type": "code",
   "execution_count": 588,
   "metadata": {},
   "outputs": [],
   "source": [
    "result_df = evaluate.cell_wise_evaluation(truth_df=truth_df, pred_df=pred_df)"
   ]
  },
  {
   "cell_type": "code",
   "execution_count": 589,
   "metadata": {},
   "outputs": [
    {
     "data": {
      "text/plain": [
       "pearson     0.645630\n",
       "spearman    0.584207\n",
       "rmse        0.150769\n",
       "r2         -3.473262\n",
       "dtype: float64"
      ]
     },
     "execution_count": 589,
     "metadata": {},
     "output_type": "execute_result"
    }
   ],
   "source": [
    "result_df.mean()"
   ]
  },
  {
   "cell_type": "code",
   "execution_count": null,
   "metadata": {},
   "outputs": [],
   "source": [
    "sns.distplot(result_df.pearson.dropna())"
   ]
  },
  {
   "cell_type": "code",
   "execution_count": null,
   "metadata": {},
   "outputs": [],
   "source": []
  },
  {
   "cell_type": "code",
   "execution_count": null,
   "metadata": {},
   "outputs": [],
   "source": [
    "per_cell_measurement = defaultdict(dict)\n",
    "k_vecs = [1, 3, 5, 10]\n",
    "for k in k_vecs:\n",
    "    for cell in truth_df.index:\n",
    "        drugs = truth_df.columns[~truth_df.loc[cell].isna()]\n",
    "        if len(drugs) < k:\n",
    "            per_cell_measurement[k][cell] = None\n",
    "            \n",
    "        else:\n",
    "            topk_truth = truth_df.loc[cell, drugs].nlargest(k).index\n",
    "            topk_pred = pred_df.loc[cell, :].nlargest(k).index\n",
    "            per_cell_measurement[k][cell] = len(topk_truth.intersection(topk_pred))/k\n",
    "\n",
    "\n",
    "\n",
    "per_cell_measurement_df = pd.DataFrame.from_dict(per_cell_measurement)\n",
    "per_cell_measurement_df.head()\n",
    "sns.distplot(per_cell_measurement_df[1].dropna())\n",
    "\n",
    "\n",
    "\n"
   ]
  },
  {
   "cell_type": "code",
   "execution_count": 572,
   "metadata": {},
   "outputs": [
    {
     "data": {
      "text/html": [
       "<div>\n",
       "<style scoped>\n",
       "    .dataframe tbody tr th:only-of-type {\n",
       "        vertical-align: middle;\n",
       "    }\n",
       "\n",
       "    .dataframe tbody tr th {\n",
       "        vertical-align: top;\n",
       "    }\n",
       "\n",
       "    .dataframe thead th {\n",
       "        text-align: right;\n",
       "    }\n",
       "</style>\n",
       "<table border=\"1\" class=\"dataframe\">\n",
       "  <thead>\n",
       "    <tr style=\"text-align: right;\">\n",
       "      <th></th>\n",
       "      <th>ABI1</th>\n",
       "      <th>ABL1</th>\n",
       "      <th>ABL2</th>\n",
       "      <th>ACKR3</th>\n",
       "      <th>ACSL3</th>\n",
       "      <th>ACVR1</th>\n",
       "      <th>ACVR2A</th>\n",
       "      <th>AFF1</th>\n",
       "      <th>AFF3</th>\n",
       "      <th>AFF4</th>\n",
       "      <th>...</th>\n",
       "      <th>XPC</th>\n",
       "      <th>XPO1</th>\n",
       "      <th>YWHAE</th>\n",
       "      <th>ZBTB16</th>\n",
       "      <th>ZFHX3</th>\n",
       "      <th>ZMYM2</th>\n",
       "      <th>ZNF331</th>\n",
       "      <th>ZNF384</th>\n",
       "      <th>ZNF521</th>\n",
       "      <th>ZRSR2</th>\n",
       "    </tr>\n",
       "  </thead>\n",
       "  <tbody>\n",
       "    <tr>\n",
       "      <th>count</th>\n",
       "      <td>575.000000</td>\n",
       "      <td>575.000000</td>\n",
       "      <td>575.000000</td>\n",
       "      <td>575.000000</td>\n",
       "      <td>575.000000</td>\n",
       "      <td>575.000000</td>\n",
       "      <td>575.000000</td>\n",
       "      <td>575.000000</td>\n",
       "      <td>575.000000</td>\n",
       "      <td>575.000000</td>\n",
       "      <td>...</td>\n",
       "      <td>575.000000</td>\n",
       "      <td>575.000000</td>\n",
       "      <td>575.000000</td>\n",
       "      <td>575.000000</td>\n",
       "      <td>575.000000</td>\n",
       "      <td>575.000000</td>\n",
       "      <td>575.000000</td>\n",
       "      <td>575.000000</td>\n",
       "      <td>575.000000</td>\n",
       "      <td>575.000000</td>\n",
       "    </tr>\n",
       "    <tr>\n",
       "      <th>mean</th>\n",
       "      <td>0.037559</td>\n",
       "      <td>0.098753</td>\n",
       "      <td>0.070712</td>\n",
       "      <td>0.027340</td>\n",
       "      <td>0.042220</td>\n",
       "      <td>0.053540</td>\n",
       "      <td>0.065007</td>\n",
       "      <td>0.029719</td>\n",
       "      <td>0.042982</td>\n",
       "      <td>0.033057</td>\n",
       "      <td>...</td>\n",
       "      <td>0.029807</td>\n",
       "      <td>0.123758</td>\n",
       "      <td>0.095783</td>\n",
       "      <td>0.057416</td>\n",
       "      <td>0.078102</td>\n",
       "      <td>0.037566</td>\n",
       "      <td>0.027238</td>\n",
       "      <td>0.028823</td>\n",
       "      <td>0.041735</td>\n",
       "      <td>0.022301</td>\n",
       "    </tr>\n",
       "    <tr>\n",
       "      <th>std</th>\n",
       "      <td>0.071286</td>\n",
       "      <td>0.161293</td>\n",
       "      <td>0.126635</td>\n",
       "      <td>0.058964</td>\n",
       "      <td>0.075501</td>\n",
       "      <td>0.091122</td>\n",
       "      <td>0.122598</td>\n",
       "      <td>0.075552</td>\n",
       "      <td>0.095384</td>\n",
       "      <td>0.074497</td>\n",
       "      <td>...</td>\n",
       "      <td>0.069538</td>\n",
       "      <td>0.193761</td>\n",
       "      <td>0.152615</td>\n",
       "      <td>0.102572</td>\n",
       "      <td>0.133430</td>\n",
       "      <td>0.083847</td>\n",
       "      <td>0.068036</td>\n",
       "      <td>0.066020</td>\n",
       "      <td>0.091504</td>\n",
       "      <td>0.051658</td>\n",
       "    </tr>\n",
       "    <tr>\n",
       "      <th>min</th>\n",
       "      <td>0.005396</td>\n",
       "      <td>0.015622</td>\n",
       "      <td>0.008059</td>\n",
       "      <td>0.003348</td>\n",
       "      <td>0.006584</td>\n",
       "      <td>0.007284</td>\n",
       "      <td>0.006764</td>\n",
       "      <td>0.002225</td>\n",
       "      <td>0.002173</td>\n",
       "      <td>0.002717</td>\n",
       "      <td>...</td>\n",
       "      <td>0.003341</td>\n",
       "      <td>0.018106</td>\n",
       "      <td>0.015686</td>\n",
       "      <td>0.007771</td>\n",
       "      <td>0.004316</td>\n",
       "      <td>0.003557</td>\n",
       "      <td>0.001815</td>\n",
       "      <td>0.003000</td>\n",
       "      <td>0.003047</td>\n",
       "      <td>0.002762</td>\n",
       "    </tr>\n",
       "    <tr>\n",
       "      <th>25%</th>\n",
       "      <td>0.011861</td>\n",
       "      <td>0.032330</td>\n",
       "      <td>0.019958</td>\n",
       "      <td>0.008476</td>\n",
       "      <td>0.014901</td>\n",
       "      <td>0.017647</td>\n",
       "      <td>0.016270</td>\n",
       "      <td>0.005719</td>\n",
       "      <td>0.007539</td>\n",
       "      <td>0.008073</td>\n",
       "      <td>...</td>\n",
       "      <td>0.008282</td>\n",
       "      <td>0.045873</td>\n",
       "      <td>0.036213</td>\n",
       "      <td>0.018695</td>\n",
       "      <td>0.010962</td>\n",
       "      <td>0.009542</td>\n",
       "      <td>0.006475</td>\n",
       "      <td>0.008317</td>\n",
       "      <td>0.008412</td>\n",
       "      <td>0.006861</td>\n",
       "    </tr>\n",
       "    <tr>\n",
       "      <th>50%</th>\n",
       "      <td>0.016984</td>\n",
       "      <td>0.046315</td>\n",
       "      <td>0.028490</td>\n",
       "      <td>0.012353</td>\n",
       "      <td>0.020970</td>\n",
       "      <td>0.025587</td>\n",
       "      <td>0.023991</td>\n",
       "      <td>0.008279</td>\n",
       "      <td>0.011324</td>\n",
       "      <td>0.011946</td>\n",
       "      <td>...</td>\n",
       "      <td>0.011931</td>\n",
       "      <td>0.065762</td>\n",
       "      <td>0.051050</td>\n",
       "      <td>0.026685</td>\n",
       "      <td>0.016476</td>\n",
       "      <td>0.013728</td>\n",
       "      <td>0.009038</td>\n",
       "      <td>0.012163</td>\n",
       "      <td>0.012622</td>\n",
       "      <td>0.009898</td>\n",
       "    </tr>\n",
       "    <tr>\n",
       "      <th>75%</th>\n",
       "      <td>0.026271</td>\n",
       "      <td>0.072232</td>\n",
       "      <td>0.045002</td>\n",
       "      <td>0.018763</td>\n",
       "      <td>0.033112</td>\n",
       "      <td>0.039762</td>\n",
       "      <td>0.038396</td>\n",
       "      <td>0.012666</td>\n",
       "      <td>0.018575</td>\n",
       "      <td>0.018223</td>\n",
       "      <td>...</td>\n",
       "      <td>0.018728</td>\n",
       "      <td>0.101425</td>\n",
       "      <td>0.078292</td>\n",
       "      <td>0.041778</td>\n",
       "      <td>0.033348</td>\n",
       "      <td>0.021029</td>\n",
       "      <td>0.014245</td>\n",
       "      <td>0.018618</td>\n",
       "      <td>0.020870</td>\n",
       "      <td>0.015364</td>\n",
       "    </tr>\n",
       "    <tr>\n",
       "      <th>max</th>\n",
       "      <td>0.517359</td>\n",
       "      <td>1.674980</td>\n",
       "      <td>1.128782</td>\n",
       "      <td>0.491480</td>\n",
       "      <td>0.967008</td>\n",
       "      <td>0.741760</td>\n",
       "      <td>0.982682</td>\n",
       "      <td>0.450222</td>\n",
       "      <td>0.612271</td>\n",
       "      <td>0.507331</td>\n",
       "      <td>...</td>\n",
       "      <td>0.658399</td>\n",
       "      <td>2.270912</td>\n",
       "      <td>1.835045</td>\n",
       "      <td>0.801743</td>\n",
       "      <td>0.733152</td>\n",
       "      <td>0.698702</td>\n",
       "      <td>0.441458</td>\n",
       "      <td>0.646689</td>\n",
       "      <td>0.642510</td>\n",
       "      <td>0.447567</td>\n",
       "    </tr>\n",
       "  </tbody>\n",
       "</table>\n",
       "<p>8 rows × 562 columns</p>\n",
       "</div>"
      ],
      "text/plain": [
       "             ABI1        ABL1        ABL2       ACKR3       ACSL3       ACVR1  \\\n",
       "count  575.000000  575.000000  575.000000  575.000000  575.000000  575.000000   \n",
       "mean     0.037559    0.098753    0.070712    0.027340    0.042220    0.053540   \n",
       "std      0.071286    0.161293    0.126635    0.058964    0.075501    0.091122   \n",
       "min      0.005396    0.015622    0.008059    0.003348    0.006584    0.007284   \n",
       "25%      0.011861    0.032330    0.019958    0.008476    0.014901    0.017647   \n",
       "50%      0.016984    0.046315    0.028490    0.012353    0.020970    0.025587   \n",
       "75%      0.026271    0.072232    0.045002    0.018763    0.033112    0.039762   \n",
       "max      0.517359    1.674980    1.128782    0.491480    0.967008    0.741760   \n",
       "\n",
       "           ACVR2A        AFF1        AFF3        AFF4  ...         XPC  \\\n",
       "count  575.000000  575.000000  575.000000  575.000000  ...  575.000000   \n",
       "mean     0.065007    0.029719    0.042982    0.033057  ...    0.029807   \n",
       "std      0.122598    0.075552    0.095384    0.074497  ...    0.069538   \n",
       "min      0.006764    0.002225    0.002173    0.002717  ...    0.003341   \n",
       "25%      0.016270    0.005719    0.007539    0.008073  ...    0.008282   \n",
       "50%      0.023991    0.008279    0.011324    0.011946  ...    0.011931   \n",
       "75%      0.038396    0.012666    0.018575    0.018223  ...    0.018728   \n",
       "max      0.982682    0.450222    0.612271    0.507331  ...    0.658399   \n",
       "\n",
       "             XPO1       YWHAE      ZBTB16       ZFHX3       ZMYM2      ZNF331  \\\n",
       "count  575.000000  575.000000  575.000000  575.000000  575.000000  575.000000   \n",
       "mean     0.123758    0.095783    0.057416    0.078102    0.037566    0.027238   \n",
       "std      0.193761    0.152615    0.102572    0.133430    0.083847    0.068036   \n",
       "min      0.018106    0.015686    0.007771    0.004316    0.003557    0.001815   \n",
       "25%      0.045873    0.036213    0.018695    0.010962    0.009542    0.006475   \n",
       "50%      0.065762    0.051050    0.026685    0.016476    0.013728    0.009038   \n",
       "75%      0.101425    0.078292    0.041778    0.033348    0.021029    0.014245   \n",
       "max      2.270912    1.835045    0.801743    0.733152    0.698702    0.441458   \n",
       "\n",
       "           ZNF384      ZNF521       ZRSR2  \n",
       "count  575.000000  575.000000  575.000000  \n",
       "mean     0.028823    0.041735    0.022301  \n",
       "std      0.066020    0.091504    0.051658  \n",
       "min      0.003000    0.003047    0.002762  \n",
       "25%      0.008317    0.008412    0.006861  \n",
       "50%      0.012163    0.012622    0.009898  \n",
       "75%      0.018618    0.020870    0.015364  \n",
       "max      0.646689    0.642510    0.447567  \n",
       "\n",
       "[8 rows x 562 columns]"
      ]
     },
     "execution_count": 572,
     "metadata": {},
     "output_type": "execute_result"
    }
   ],
   "source": [
    "data_provider.labeled_data['mut'].describe()"
   ]
  },
  {
   "cell_type": "code",
   "execution_count": null,
   "metadata": {},
   "outputs": [],
   "source": [
    "result_df = per_cell_measurement_df.mean()\n",
    "result_df = result_df.reset_index()\n",
    "result_df.columns = ['k', 'precision']\n",
    "result_df['method'] = 'rf'\n",
    "\n",
    "result_df\n",
    "\n",
    "#plot_df = result_df.copy()\n",
    "\n",
    "\n",
    "plot_df = plot_df.append(result_df)\n",
    "\n",
    "\n",
    "plot_df.columns = ['k', 'precision', 'method']\n",
    "\n",
    "g = sns.catplot(data=plot_df, col='k', col_wrap=2, x='method', y='precision',kind='bar')\n",
    "\n",
    "g.savefig('topk_precision_placehold.png')"
   ]
  }
 ],
 "metadata": {
  "kernelspec": {
   "display_name": "Python 3",
   "language": "python",
   "name": "python3"
  },
  "language_info": {
   "codemirror_mode": {
    "name": "ipython",
    "version": 3
   },
   "file_extension": ".py",
   "mimetype": "text/x-python",
   "name": "python",
   "nbconvert_exporter": "python",
   "pygments_lexer": "ipython3",
   "version": "3.7.5"
  },
  "pycharm": {
   "stem_cell": {
    "cell_type": "raw",
    "metadata": {
     "collapsed": false
    },
    "source": []
   }
  }
 },
 "nbformat": 4,
 "nbformat_minor": 1
}
