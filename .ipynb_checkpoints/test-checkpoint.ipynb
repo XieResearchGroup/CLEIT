{
 "cells": [
  {
   "cell_type": "code",
   "execution_count": 35,
   "metadata": {
    "collapsed": true,
    "pycharm": {
     "is_executing": false
    }
   },
   "outputs": [],
   "source": [
    "from tensorflow import keras\n",
    "import tensorflow as tf\n",
    "import data\n",
    "import data_config\n",
    "import preprocess_ccle_gdsc_utils\n",
    "import preprocess_xena_utils\n",
    "import loss\n",
    "import train\n",
    "from module import AE, VAE\n",
    "import os\n",
    "import pickle\n",
    "import utils\n",
    "import model_config\n",
    "import layer"
   ]
  },
  {
   "cell_type": "code",
   "execution_count": 93,
   "metadata": {
    "pycharm": {
     "is_executing": false,
     "name": "#%%\n"
    }
   },
   "outputs": [
    {
     "data": {
      "text/plain": [
       "<module 'model_config' from '/Users/hedi/PycharmProjects/CLRN/model_config.py'>"
      ]
     },
     "execution_count": 93,
     "metadata": {},
     "output_type": "execute_result"
    }
   ],
   "source": [
    "importlib.reload(model_config)"
   ]
  },
  {
   "cell_type": "code",
   "execution_count": null,
   "metadata": {
    "collapsed": true
   },
   "outputs": [],
   "source": []
  },
  {
   "cell_type": "code",
   "execution_count": 2,
   "metadata": {
    "collapsed": true
   },
   "outputs": [
    {
     "name": "stdout",
     "output_type": "stream",
     "text": [
      "Preprocessed data has 1270 samples and 19144 features\n"
     ]
    },
    {
     "name": "stderr",
     "output_type": "stream",
     "text": [
      "/Users/hedi/PycharmProjects/CLRN/data.py:77: DtypeWarning: Columns (20,30,31) have mixed types. Specify dtype option on import or set low_memory=False.\n",
      "  self.labeled_data, self.unlabeled_data, self.labeled_test_data = self._load_data()\n"
     ]
    },
    {
     "name": "stdout",
     "output_type": "stream",
     "text": [
      "Preprocessed data has 1697 samples and 18540 features\n",
      "Propagation Start!\n",
      "Preprocessed data has 9808 samples and 563 features\n",
      "Aligned dataframes have 563 features in common\n",
      "Aligned dataframes have 562 features in common\n"
     ]
    }
   ],
   "source": [
    "data_provider = data.DataProvider(feature_filter='FILE',\n",
    "                                      omics=['gex', 'mut'])"
   ]
  },
  {
   "cell_type": "code",
   "execution_count": null,
   "metadata": {
    "collapsed": true
   },
   "outputs": [],
   "source": [
    "#sorted(data_provider.labeled_data['target'].columns.to_list())"
   ]
  },
  {
   "cell_type": "code",
   "execution_count": null,
   "metadata": {
    "collapsed": true
   },
   "outputs": [],
   "source": [
    "data_provider.labeled_data['gex'].describe()"
   ]
  },
  {
   "cell_type": "code",
   "execution_count": null,
   "metadata": {
    "collapsed": true
   },
   "outputs": [],
   "source": [
    "data_provider.unlabeled_data['gex'].describe()"
   ]
  },
  {
   "cell_type": "code",
   "execution_count": null,
   "metadata": {
    "collapsed": true
   },
   "outputs": [],
   "source": []
  },
  {
   "cell_type": "code",
   "execution_count": 3,
   "metadata": {
    "collapsed": true
   },
   "outputs": [
    {
     "name": "stdout",
     "output_type": "stream",
     "text": [
      "saved_weights/gex/stochastic_512_256_128_128_encoder_weights exists!\n",
      "epoch:  0\n",
      "Training loss (for one batch) at step 100: 319.70806884765625\n",
      "Seen so far: 6400 samples\n",
      "epoch:  1\n",
      "Training loss (for one batch) at step 100: 37.86890411376953\n",
      "Seen so far: 6400 samples\n",
      "epoch:  2\n",
      "Training loss (for one batch) at step 100: 13.823480606079102\n",
      "Seen so far: 6400 samples\n",
      "epoch:  3\n",
      "Training loss (for one batch) at step 100: 4.338230609893799\n",
      "Seen so far: 6400 samples\n",
      "epoch:  4\n",
      "Training loss (for one batch) at step 100: 3.94647216796875\n",
      "Seen so far: 6400 samples\n",
      "epoch:  5\n",
      "Training loss (for one batch) at step 100: 2.372913360595703\n",
      "Seen so far: 6400 samples\n",
      "epoch:  6\n",
      "Training loss (for one batch) at step 100: 2.108013391494751\n",
      "Seen so far: 6400 samples\n",
      "epoch:  7\n",
      "Training loss (for one batch) at step 100: 1.7739977836608887\n",
      "Seen so far: 6400 samples\n",
      "epoch:  8\n",
      "Training loss (for one batch) at step 100: 1.5124671459197998\n",
      "Seen so far: 6400 samples\n",
      "epoch:  9\n",
      "Training loss (for one batch) at step 100: 1.6379649639129639\n",
      "Seen so far: 6400 samples\n",
      "epoch:  10\n",
      "Training loss (for one batch) at step 100: 1.4423829317092896\n",
      "Seen so far: 6400 samples\n",
      "epoch:  11\n",
      "Training loss (for one batch) at step 100: 1.2371060848236084\n",
      "Seen so far: 6400 samples\n",
      "epoch:  12\n",
      "Training loss (for one batch) at step 100: 1.1667828559875488\n",
      "Seen so far: 6400 samples\n",
      "epoch:  13\n",
      "Training loss (for one batch) at step 100: 1.2452270984649658\n",
      "Seen so far: 6400 samples\n",
      "epoch:  14\n",
      "Training loss (for one batch) at step 100: 1.1656877994537354\n",
      "Seen so far: 6400 samples\n",
      "epoch:  15\n",
      "Training loss (for one batch) at step 100: 1.0769169330596924\n",
      "Seen so far: 6400 samples\n",
      "epoch:  16\n",
      "Training loss (for one batch) at step 100: 1.0893441438674927\n",
      "Seen so far: 6400 samples\n",
      "epoch:  17\n",
      "Training loss (for one batch) at step 100: 1.1084059476852417\n",
      "Seen so far: 6400 samples\n",
      "epoch:  18\n",
      "Training loss (for one batch) at step 100: 1.1944332122802734\n",
      "Seen so far: 6400 samples\n",
      "epoch:  19\n",
      "Training loss (for one batch) at step 100: 1.087233304977417\n",
      "Seen so far: 6400 samples\n"
     ]
    }
   ],
   "source": [
    "    train_dataset = tf.data.Dataset.from_tensor_slices(\n",
    "        (data_provider.unlabeled_data['gex'].values, data_provider.unlabeled_data['gex'].values))\n",
    "    val_dataset = tf.data.Dataset.from_tensor_slices(\n",
    "        (data_provider.labeled_data['gex'].values, data_provider.labeled_data['gex'].values))\n",
    "\n",
    "    gex_auto_encoder = VAE(latent_dim=model_config.encoder_latent_dimension,\n",
    "                           output_dim=data_provider.shape_dict['gex'],\n",
    "                           architecture=model_config.encoder_architecture,\n",
    "                           noise_fn=keras.layers.GaussianNoise,\n",
    "                           output_act_fn=keras.activations.relu,\n",
    "                           kernel_regularizer_l=model_config.kernel_regularizer_l)\n",
    "\n",
    "    gex_encoder, gex_pre_train_history_df = train.pre_train_gex_AE(auto_encoder=gex_auto_encoder,\n",
    "                                                                   train_dataset=train_dataset,\n",
    "                                                                   val_dataset=val_dataset)\n"
   ]
  },
  {
   "cell_type": "code",
   "execution_count": 13,
   "metadata": {
    "collapsed": true
   },
   "outputs": [
    {
     "data": {
      "text/html": [
       "<div>\n",
       "<style scoped>\n",
       "    .dataframe tbody tr th:only-of-type {\n",
       "        vertical-align: middle;\n",
       "    }\n",
       "\n",
       "    .dataframe tbody tr th {\n",
       "        vertical-align: top;\n",
       "    }\n",
       "\n",
       "    .dataframe thead th {\n",
       "        text-align: right;\n",
       "    }\n",
       "</style>\n",
       "<table border=\"1\" class=\"dataframe\">\n",
       "  <thead>\n",
       "    <tr style=\"text-align: right;\">\n",
       "      <th></th>\n",
       "      <th>train_mse</th>\n",
       "      <th>train_maep</th>\n",
       "      <th>val_mse</th>\n",
       "      <th>val_maep</th>\n",
       "    </tr>\n",
       "  </thead>\n",
       "  <tbody>\n",
       "    <tr>\n",
       "      <th>0</th>\n",
       "      <td>tf.Tensor(4.4782386, shape=(), dtype=float32)</td>\n",
       "      <td>tf.Tensor(8349638.5, shape=(), dtype=float32)</td>\n",
       "      <td>tf.Tensor(7.193964, shape=(), dtype=float32)</td>\n",
       "      <td>tf.Tensor(15570321.0, shape=(), dtype=float32)</td>\n",
       "    </tr>\n",
       "    <tr>\n",
       "      <th>1</th>\n",
       "      <td>tf.Tensor(1.3573953, shape=(), dtype=float32)</td>\n",
       "      <td>tf.Tensor(8841226.0, shape=(), dtype=float32)</td>\n",
       "      <td>tf.Tensor(5.012135, shape=(), dtype=float32)</td>\n",
       "      <td>tf.Tensor(15967935.0, shape=(), dtype=float32)</td>\n",
       "    </tr>\n",
       "    <tr>\n",
       "      <th>2</th>\n",
       "      <td>tf.Tensor(1.1099179, shape=(), dtype=float32)</td>\n",
       "      <td>tf.Tensor(9047280.0, shape=(), dtype=float32)</td>\n",
       "      <td>tf.Tensor(4.1821275, shape=(), dtype=float32)</td>\n",
       "      <td>tf.Tensor(16857194.0, shape=(), dtype=float32)</td>\n",
       "    </tr>\n",
       "    <tr>\n",
       "      <th>3</th>\n",
       "      <td>tf.Tensor(1.0616465, shape=(), dtype=float32)</td>\n",
       "      <td>tf.Tensor(9288309.0, shape=(), dtype=float32)</td>\n",
       "      <td>tf.Tensor(3.6939347, shape=(), dtype=float32)</td>\n",
       "      <td>tf.Tensor(17621940.0, shape=(), dtype=float32)</td>\n",
       "    </tr>\n",
       "    <tr>\n",
       "      <th>4</th>\n",
       "      <td>tf.Tensor(1.0285996, shape=(), dtype=float32)</td>\n",
       "      <td>tf.Tensor(9542360.0, shape=(), dtype=float32)</td>\n",
       "      <td>tf.Tensor(3.3672817, shape=(), dtype=float32)</td>\n",
       "      <td>tf.Tensor(18493316.0, shape=(), dtype=float32)</td>\n",
       "    </tr>\n",
       "    <tr>\n",
       "      <th>5</th>\n",
       "      <td>tf.Tensor(1.0092, shape=(), dtype=float32)</td>\n",
       "      <td>tf.Tensor(9694457.0, shape=(), dtype=float32)</td>\n",
       "      <td>tf.Tensor(3.2834616, shape=(), dtype=float32)</td>\n",
       "      <td>tf.Tensor(18855128.0, shape=(), dtype=float32)</td>\n",
       "    </tr>\n",
       "    <tr>\n",
       "      <th>6</th>\n",
       "      <td>tf.Tensor(0.99204534, shape=(), dtype=float32)</td>\n",
       "      <td>tf.Tensor(9940418.0, shape=(), dtype=float32)</td>\n",
       "      <td>tf.Tensor(3.2935245, shape=(), dtype=float32)</td>\n",
       "      <td>tf.Tensor(18903698.0, shape=(), dtype=float32)</td>\n",
       "    </tr>\n",
       "    <tr>\n",
       "      <th>7</th>\n",
       "      <td>tf.Tensor(0.97634083, shape=(), dtype=float32)</td>\n",
       "      <td>tf.Tensor(10081094.0, shape=(), dtype=float32)</td>\n",
       "      <td>tf.Tensor(3.2109208, shape=(), dtype=float32)</td>\n",
       "      <td>tf.Tensor(19079528.0, shape=(), dtype=float32)</td>\n",
       "    </tr>\n",
       "    <tr>\n",
       "      <th>8</th>\n",
       "      <td>tf.Tensor(0.9675526, shape=(), dtype=float32)</td>\n",
       "      <td>tf.Tensor(10208248.0, shape=(), dtype=float32)</td>\n",
       "      <td>tf.Tensor(3.0717144, shape=(), dtype=float32)</td>\n",
       "      <td>tf.Tensor(19437878.0, shape=(), dtype=float32)</td>\n",
       "    </tr>\n",
       "    <tr>\n",
       "      <th>9</th>\n",
       "      <td>tf.Tensor(0.9562388, shape=(), dtype=float32)</td>\n",
       "      <td>tf.Tensor(10253312.0, shape=(), dtype=float32)</td>\n",
       "      <td>tf.Tensor(3.0911467, shape=(), dtype=float32)</td>\n",
       "      <td>tf.Tensor(19129434.0, shape=(), dtype=float32)</td>\n",
       "    </tr>\n",
       "    <tr>\n",
       "      <th>10</th>\n",
       "      <td>tf.Tensor(0.94974494, shape=(), dtype=float32)</td>\n",
       "      <td>tf.Tensor(10401116.0, shape=(), dtype=float32)</td>\n",
       "      <td>tf.Tensor(3.0531569, shape=(), dtype=float32)</td>\n",
       "      <td>tf.Tensor(19352296.0, shape=(), dtype=float32)</td>\n",
       "    </tr>\n",
       "    <tr>\n",
       "      <th>11</th>\n",
       "      <td>tf.Tensor(0.94520205, shape=(), dtype=float32)</td>\n",
       "      <td>tf.Tensor(10438684.0, shape=(), dtype=float32)</td>\n",
       "      <td>tf.Tensor(3.000788, shape=(), dtype=float32)</td>\n",
       "      <td>tf.Tensor(19728368.0, shape=(), dtype=float32)</td>\n",
       "    </tr>\n",
       "    <tr>\n",
       "      <th>12</th>\n",
       "      <td>tf.Tensor(0.9390554, shape=(), dtype=float32)</td>\n",
       "      <td>tf.Tensor(10588469.0, shape=(), dtype=float32)</td>\n",
       "      <td>tf.Tensor(2.9102113, shape=(), dtype=float32)</td>\n",
       "      <td>tf.Tensor(19713254.0, shape=(), dtype=float32)</td>\n",
       "    </tr>\n",
       "    <tr>\n",
       "      <th>13</th>\n",
       "      <td>tf.Tensor(0.9318985, shape=(), dtype=float32)</td>\n",
       "      <td>tf.Tensor(10659742.0, shape=(), dtype=float32)</td>\n",
       "      <td>tf.Tensor(2.893758, shape=(), dtype=float32)</td>\n",
       "      <td>tf.Tensor(19829732.0, shape=(), dtype=float32)</td>\n",
       "    </tr>\n",
       "    <tr>\n",
       "      <th>14</th>\n",
       "      <td>tf.Tensor(0.9276271, shape=(), dtype=float32)</td>\n",
       "      <td>tf.Tensor(10747787.0, shape=(), dtype=float32)</td>\n",
       "      <td>tf.Tensor(2.9066792, shape=(), dtype=float32)</td>\n",
       "      <td>tf.Tensor(19828924.0, shape=(), dtype=float32)</td>\n",
       "    </tr>\n",
       "    <tr>\n",
       "      <th>15</th>\n",
       "      <td>tf.Tensor(0.9225925, shape=(), dtype=float32)</td>\n",
       "      <td>tf.Tensor(10805370.0, shape=(), dtype=float32)</td>\n",
       "      <td>tf.Tensor(2.9250143, shape=(), dtype=float32)</td>\n",
       "      <td>tf.Tensor(19854740.0, shape=(), dtype=float32)</td>\n",
       "    </tr>\n",
       "    <tr>\n",
       "      <th>16</th>\n",
       "      <td>tf.Tensor(0.91901785, shape=(), dtype=float32)</td>\n",
       "      <td>tf.Tensor(10929896.0, shape=(), dtype=float32)</td>\n",
       "      <td>tf.Tensor(2.8809865, shape=(), dtype=float32)</td>\n",
       "      <td>tf.Tensor(20192168.0, shape=(), dtype=float32)</td>\n",
       "    </tr>\n",
       "    <tr>\n",
       "      <th>17</th>\n",
       "      <td>tf.Tensor(0.9164079, shape=(), dtype=float32)</td>\n",
       "      <td>tf.Tensor(11051789.0, shape=(), dtype=float32)</td>\n",
       "      <td>tf.Tensor(2.8178008, shape=(), dtype=float32)</td>\n",
       "      <td>tf.Tensor(20318500.0, shape=(), dtype=float32)</td>\n",
       "    </tr>\n",
       "    <tr>\n",
       "      <th>18</th>\n",
       "      <td>tf.Tensor(0.9119483, shape=(), dtype=float32)</td>\n",
       "      <td>tf.Tensor(11067217.0, shape=(), dtype=float32)</td>\n",
       "      <td>tf.Tensor(2.8690276, shape=(), dtype=float32)</td>\n",
       "      <td>tf.Tensor(20103108.0, shape=(), dtype=float32)</td>\n",
       "    </tr>\n",
       "    <tr>\n",
       "      <th>19</th>\n",
       "      <td>tf.Tensor(0.90669906, shape=(), dtype=float32)</td>\n",
       "      <td>tf.Tensor(11026876.0, shape=(), dtype=float32)</td>\n",
       "      <td>tf.Tensor(2.786124, shape=(), dtype=float32)</td>\n",
       "      <td>tf.Tensor(20189434.0, shape=(), dtype=float32)</td>\n",
       "    </tr>\n",
       "  </tbody>\n",
       "</table>\n",
       "</div>"
      ],
      "text/plain": [
       "                                         train_mse  \\\n",
       "0    tf.Tensor(4.4782386, shape=(), dtype=float32)   \n",
       "1    tf.Tensor(1.3573953, shape=(), dtype=float32)   \n",
       "2    tf.Tensor(1.1099179, shape=(), dtype=float32)   \n",
       "3    tf.Tensor(1.0616465, shape=(), dtype=float32)   \n",
       "4    tf.Tensor(1.0285996, shape=(), dtype=float32)   \n",
       "5       tf.Tensor(1.0092, shape=(), dtype=float32)   \n",
       "6   tf.Tensor(0.99204534, shape=(), dtype=float32)   \n",
       "7   tf.Tensor(0.97634083, shape=(), dtype=float32)   \n",
       "8    tf.Tensor(0.9675526, shape=(), dtype=float32)   \n",
       "9    tf.Tensor(0.9562388, shape=(), dtype=float32)   \n",
       "10  tf.Tensor(0.94974494, shape=(), dtype=float32)   \n",
       "11  tf.Tensor(0.94520205, shape=(), dtype=float32)   \n",
       "12   tf.Tensor(0.9390554, shape=(), dtype=float32)   \n",
       "13   tf.Tensor(0.9318985, shape=(), dtype=float32)   \n",
       "14   tf.Tensor(0.9276271, shape=(), dtype=float32)   \n",
       "15   tf.Tensor(0.9225925, shape=(), dtype=float32)   \n",
       "16  tf.Tensor(0.91901785, shape=(), dtype=float32)   \n",
       "17   tf.Tensor(0.9164079, shape=(), dtype=float32)   \n",
       "18   tf.Tensor(0.9119483, shape=(), dtype=float32)   \n",
       "19  tf.Tensor(0.90669906, shape=(), dtype=float32)   \n",
       "\n",
       "                                        train_maep  \\\n",
       "0    tf.Tensor(8349638.5, shape=(), dtype=float32)   \n",
       "1    tf.Tensor(8841226.0, shape=(), dtype=float32)   \n",
       "2    tf.Tensor(9047280.0, shape=(), dtype=float32)   \n",
       "3    tf.Tensor(9288309.0, shape=(), dtype=float32)   \n",
       "4    tf.Tensor(9542360.0, shape=(), dtype=float32)   \n",
       "5    tf.Tensor(9694457.0, shape=(), dtype=float32)   \n",
       "6    tf.Tensor(9940418.0, shape=(), dtype=float32)   \n",
       "7   tf.Tensor(10081094.0, shape=(), dtype=float32)   \n",
       "8   tf.Tensor(10208248.0, shape=(), dtype=float32)   \n",
       "9   tf.Tensor(10253312.0, shape=(), dtype=float32)   \n",
       "10  tf.Tensor(10401116.0, shape=(), dtype=float32)   \n",
       "11  tf.Tensor(10438684.0, shape=(), dtype=float32)   \n",
       "12  tf.Tensor(10588469.0, shape=(), dtype=float32)   \n",
       "13  tf.Tensor(10659742.0, shape=(), dtype=float32)   \n",
       "14  tf.Tensor(10747787.0, shape=(), dtype=float32)   \n",
       "15  tf.Tensor(10805370.0, shape=(), dtype=float32)   \n",
       "16  tf.Tensor(10929896.0, shape=(), dtype=float32)   \n",
       "17  tf.Tensor(11051789.0, shape=(), dtype=float32)   \n",
       "18  tf.Tensor(11067217.0, shape=(), dtype=float32)   \n",
       "19  tf.Tensor(11026876.0, shape=(), dtype=float32)   \n",
       "\n",
       "                                          val_mse  \\\n",
       "0    tf.Tensor(7.193964, shape=(), dtype=float32)   \n",
       "1    tf.Tensor(5.012135, shape=(), dtype=float32)   \n",
       "2   tf.Tensor(4.1821275, shape=(), dtype=float32)   \n",
       "3   tf.Tensor(3.6939347, shape=(), dtype=float32)   \n",
       "4   tf.Tensor(3.3672817, shape=(), dtype=float32)   \n",
       "5   tf.Tensor(3.2834616, shape=(), dtype=float32)   \n",
       "6   tf.Tensor(3.2935245, shape=(), dtype=float32)   \n",
       "7   tf.Tensor(3.2109208, shape=(), dtype=float32)   \n",
       "8   tf.Tensor(3.0717144, shape=(), dtype=float32)   \n",
       "9   tf.Tensor(3.0911467, shape=(), dtype=float32)   \n",
       "10  tf.Tensor(3.0531569, shape=(), dtype=float32)   \n",
       "11   tf.Tensor(3.000788, shape=(), dtype=float32)   \n",
       "12  tf.Tensor(2.9102113, shape=(), dtype=float32)   \n",
       "13   tf.Tensor(2.893758, shape=(), dtype=float32)   \n",
       "14  tf.Tensor(2.9066792, shape=(), dtype=float32)   \n",
       "15  tf.Tensor(2.9250143, shape=(), dtype=float32)   \n",
       "16  tf.Tensor(2.8809865, shape=(), dtype=float32)   \n",
       "17  tf.Tensor(2.8178008, shape=(), dtype=float32)   \n",
       "18  tf.Tensor(2.8690276, shape=(), dtype=float32)   \n",
       "19   tf.Tensor(2.786124, shape=(), dtype=float32)   \n",
       "\n",
       "                                          val_maep  \n",
       "0   tf.Tensor(15570321.0, shape=(), dtype=float32)  \n",
       "1   tf.Tensor(15967935.0, shape=(), dtype=float32)  \n",
       "2   tf.Tensor(16857194.0, shape=(), dtype=float32)  \n",
       "3   tf.Tensor(17621940.0, shape=(), dtype=float32)  \n",
       "4   tf.Tensor(18493316.0, shape=(), dtype=float32)  \n",
       "5   tf.Tensor(18855128.0, shape=(), dtype=float32)  \n",
       "6   tf.Tensor(18903698.0, shape=(), dtype=float32)  \n",
       "7   tf.Tensor(19079528.0, shape=(), dtype=float32)  \n",
       "8   tf.Tensor(19437878.0, shape=(), dtype=float32)  \n",
       "9   tf.Tensor(19129434.0, shape=(), dtype=float32)  \n",
       "10  tf.Tensor(19352296.0, shape=(), dtype=float32)  \n",
       "11  tf.Tensor(19728368.0, shape=(), dtype=float32)  \n",
       "12  tf.Tensor(19713254.0, shape=(), dtype=float32)  \n",
       "13  tf.Tensor(19829732.0, shape=(), dtype=float32)  \n",
       "14  tf.Tensor(19828924.0, shape=(), dtype=float32)  \n",
       "15  tf.Tensor(19854740.0, shape=(), dtype=float32)  \n",
       "16  tf.Tensor(20192168.0, shape=(), dtype=float32)  \n",
       "17  tf.Tensor(20318500.0, shape=(), dtype=float32)  \n",
       "18  tf.Tensor(20103108.0, shape=(), dtype=float32)  \n",
       "19  tf.Tensor(20189434.0, shape=(), dtype=float32)  "
      ]
     },
     "execution_count": 13,
     "metadata": {},
     "output_type": "execute_result"
    }
   ],
   "source": [
    "gex_pre_train_history_df"
   ]
  },
  {
   "cell_type": "code",
   "execution_count": null,
   "metadata": {
    "collapsed": true
   },
   "outputs": [],
   "source": []
  },
  {
   "cell_type": "code",
   "execution_count": 4,
   "metadata": {
    "collapsed": true
   },
   "outputs": [
    {
     "name": "stdout",
     "output_type": "stream",
     "text": [
      "saved_weights/gex/stochastic_512_256_128_128_encoder_weights exists!\n",
      "WARNING:tensorflow:From /Users/hedi/anaconda3/envs/tf2/lib/python3.7/site-packages/tensorflow_core/python/ops/array_grad.py:563: _EagerTensorBase.cpu (from tensorflow.python.framework.ops) is deprecated and will be removed in a future version.\n",
      "Instructions for updating:\n",
      "Use tf.identity instead.\n",
      "Training loss  at epoch 1: 0.1281987875699997\n",
      "Training loss  at epoch 2: 0.1257776916027069\n",
      "Training loss  at epoch 3: 0.1260090470314026\n",
      "Training loss  at epoch 4: 0.12447111308574677\n",
      "Training loss  at epoch 5: 0.12349583953619003\n",
      "Training loss  at epoch 6: 0.12252397835254669\n",
      "Training loss  at epoch 7: 0.1222856193780899\n",
      "Training loss  at epoch 8: 0.12078031897544861\n",
      "Training loss  at epoch 9: 0.12034573405981064\n",
      "Training loss  at epoch 10: 0.11867588758468628\n",
      "Training loss  at epoch 11: 0.11819040030241013\n",
      "Training loss  at epoch 12: 0.11746697127819061\n",
      "Training loss  at epoch 13: 0.11602046340703964\n",
      "Training loss  at epoch 14: 0.11565586924552917\n",
      "Training loss  at epoch 15: 0.11485248059034348\n",
      "Training loss  at epoch 16: 0.11529678106307983\n",
      "WARNING:tensorflow:Gradients do not exist for variables ['ae/encoder/dense_4/kernel:0', 'ae/encoder/dense_4/bias:0'] when minimizing the loss.\n",
      "WARNING:tensorflow:Gradients do not exist for variables ['ae/encoder/dense_4/kernel:0', 'ae/encoder/dense_4/bias:0'] when minimizing the loss.\n",
      "WARNING:tensorflow:Gradients do not exist for variables ['ae/encoder/dense_4/kernel:0', 'ae/encoder/dense_4/bias:0'] when minimizing the loss.\n",
      "WARNING:tensorflow:Gradients do not exist for variables ['ae/encoder/dense_4/kernel:0', 'ae/encoder/dense_4/bias:0'] when minimizing the loss.\n",
      "WARNING:tensorflow:Gradients do not exist for variables ['ae/encoder/dense_4/kernel:0', 'ae/encoder/dense_4/bias:0'] when minimizing the loss.\n",
      "WARNING:tensorflow:Gradients do not exist for variables ['ae/encoder/dense_4/kernel:0', 'ae/encoder/dense_4/bias:0'] when minimizing the loss.\n",
      "WARNING:tensorflow:Gradients do not exist for variables ['ae/encoder/dense_4/kernel:0', 'ae/encoder/dense_4/bias:0'] when minimizing the loss.\n",
      "WARNING:tensorflow:Gradients do not exist for variables ['ae/encoder/dense_4/kernel:0', 'ae/encoder/dense_4/bias:0'] when minimizing the loss.\n",
      "Training loss  at epoch 17: 0.11355981230735779\n",
      "WARNING:tensorflow:Gradients do not exist for variables ['ae/encoder/dense_4/kernel:0', 'ae/encoder/dense_4/bias:0'] when minimizing the loss.\n",
      "WARNING:tensorflow:Gradients do not exist for variables ['ae/encoder/dense_4/kernel:0', 'ae/encoder/dense_4/bias:0'] when minimizing the loss.\n",
      "WARNING:tensorflow:Gradients do not exist for variables ['ae/encoder/dense_4/kernel:0', 'ae/encoder/dense_4/bias:0'] when minimizing the loss.\n",
      "WARNING:tensorflow:Gradients do not exist for variables ['ae/encoder/dense_4/kernel:0', 'ae/encoder/dense_4/bias:0'] when minimizing the loss.\n",
      "WARNING:tensorflow:Gradients do not exist for variables ['ae/encoder/dense_4/kernel:0', 'ae/encoder/dense_4/bias:0'] when minimizing the loss.\n",
      "WARNING:tensorflow:Gradients do not exist for variables ['ae/encoder/dense_4/kernel:0', 'ae/encoder/dense_4/bias:0'] when minimizing the loss.\n",
      "WARNING:tensorflow:Gradients do not exist for variables ['ae/encoder/dense_4/kernel:0', 'ae/encoder/dense_4/bias:0'] when minimizing the loss.\n",
      "WARNING:tensorflow:Gradients do not exist for variables ['ae/encoder/dense_4/kernel:0', 'ae/encoder/dense_4/bias:0'] when minimizing the loss.\n",
      "Training loss  at epoch 18: 0.11355620622634888\n",
      "WARNING:tensorflow:Gradients do not exist for variables ['ae/encoder/dense_4/kernel:0', 'ae/encoder/dense_4/bias:0'] when minimizing the loss.\n",
      "WARNING:tensorflow:Gradients do not exist for variables ['ae/encoder/dense_4/kernel:0', 'ae/encoder/dense_4/bias:0'] when minimizing the loss.\n",
      "WARNING:tensorflow:Gradients do not exist for variables ['ae/encoder/dense_4/kernel:0', 'ae/encoder/dense_4/bias:0'] when minimizing the loss.\n",
      "WARNING:tensorflow:Gradients do not exist for variables ['ae/encoder/dense_4/kernel:0', 'ae/encoder/dense_4/bias:0'] when minimizing the loss.\n",
      "WARNING:tensorflow:Gradients do not exist for variables ['ae/encoder/dense_4/kernel:0', 'ae/encoder/dense_4/bias:0'] when minimizing the loss.\n",
      "WARNING:tensorflow:Gradients do not exist for variables ['ae/encoder/dense_4/kernel:0', 'ae/encoder/dense_4/bias:0'] when minimizing the loss.\n",
      "WARNING:tensorflow:Gradients do not exist for variables ['ae/encoder/dense_4/kernel:0', 'ae/encoder/dense_4/bias:0'] when minimizing the loss.\n",
      "WARNING:tensorflow:Gradients do not exist for variables ['ae/encoder/dense_4/kernel:0', 'ae/encoder/dense_4/bias:0'] when minimizing the loss.\n",
      "Training loss  at epoch 19: 0.11143485456705093\n",
      "WARNING:tensorflow:Gradients do not exist for variables ['ae/encoder/dense_4/kernel:0', 'ae/encoder/dense_4/bias:0'] when minimizing the loss.\n",
      "WARNING:tensorflow:Gradients do not exist for variables ['ae/encoder/dense_4/kernel:0', 'ae/encoder/dense_4/bias:0'] when minimizing the loss.\n",
      "WARNING:tensorflow:Gradients do not exist for variables ['ae/encoder/dense_4/kernel:0', 'ae/encoder/dense_4/bias:0'] when minimizing the loss.\n",
      "WARNING:tensorflow:Gradients do not exist for variables ['ae/encoder/dense_4/kernel:0', 'ae/encoder/dense_4/bias:0'] when minimizing the loss.\n",
      "WARNING:tensorflow:Gradients do not exist for variables ['ae/encoder/dense_4/kernel:0', 'ae/encoder/dense_4/bias:0'] when minimizing the loss.\n",
      "WARNING:tensorflow:Gradients do not exist for variables ['ae/encoder/dense_4/kernel:0', 'ae/encoder/dense_4/bias:0'] when minimizing the loss.\n",
      "WARNING:tensorflow:Gradients do not exist for variables ['ae/encoder/dense_4/kernel:0', 'ae/encoder/dense_4/bias:0'] when minimizing the loss.\n",
      "WARNING:tensorflow:Gradients do not exist for variables ['ae/encoder/dense_4/kernel:0', 'ae/encoder/dense_4/bias:0'] when minimizing the loss.\n",
      "Training loss  at epoch 20: 0.11155064404010773\n"
     ]
    }
   ],
   "source": [
    "    i = 0\n",
    "    train_dataset = tf.data.Dataset.from_tensor_slices(\n",
    "        (data_provider.labeled_data['gex'].iloc[data_provider.get_k_folds()[i][0]].values,\n",
    "         data_provider.labeled_data['target'].iloc[data_provider.get_k_folds()[i][0]].values))\n",
    "    val_dataset = tf.data.Dataset.from_tensor_slices(\n",
    "        (data_provider.labeled_data['gex'].iloc[data_provider.get_k_folds()[i][1]].values,\n",
    "         data_provider.labeled_data['target'].iloc[data_provider.get_k_folds()[i][1]].values))\n",
    "\n",
    "    gex_fine_tune_train_history, gex_fine_tune_validation_history = train.fine_tune_gex_encoder(\n",
    "        encoder=gex_encoder,\n",
    "        train_dataset=train_dataset,\n",
    "        val_dataset=val_dataset)"
   ]
  },
  {
   "cell_type": "code",
   "execution_count": null,
   "metadata": {
    "collapsed": true
   },
   "outputs": [],
   "source": []
  },
  {
   "cell_type": "code",
   "execution_count": null,
   "metadata": {},
   "outputs": [],
   "source": []
  },
  {
   "cell_type": "code",
   "execution_count": null,
   "metadata": {
    "collapsed": true
   },
   "outputs": [],
   "source": []
  },
  {
   "cell_type": "code",
   "execution_count": 49,
   "metadata": {},
   "outputs": [],
   "source": [
    "    train_dataset = tf.data.Dataset.from_tensor_slices(\n",
    "        (data_provider.unlabeled_data['mut'].loc[data_provider.matched_index].append(data_provider.labeled_data['mut'].iloc[data_provider.get_k_folds()[i][0]]).values,\n",
    "         data_provider.unlabeled_data['mut'].loc[data_provider.matched_index].append(data_provider.labeled_data['mut'].iloc[data_provider.get_k_folds()[i][0]]).values,\n",
    "         data_provider.unlabeled_data['gex'].loc[data_provider.matched_index].append(data_provider.labeled_data['gex'].iloc[data_provider.get_k_folds()[i][0]]).values))\n",
    "\n",
    "\n",
    "\n",
    "    val_dataset = tf.data.Dataset.from_tensor_slices(\n",
    "        (data_provider.labeled_data['mut'].iloc[data_provider.get_k_folds()[i][1]].values,\n",
    "         data_provider.labeled_data['mut'].iloc[data_provider.get_k_folds()[i][1]].values,\n",
    "         data_provider.labeled_data['gex'].iloc[data_provider.get_k_folds()[i][1]].values))"
   ]
  },
  {
   "cell_type": "code",
   "execution_count": 68,
   "metadata": {},
   "outputs": [
    {
     "name": "stdout",
     "output_type": "stream",
     "text": [
      "saved_weights/mut/stochastic_512_256_128_128_encoder_weights exists!\n",
      "epoch:  0\n",
      "WARNING:tensorflow:Layer encoder is casting an input tensor from dtype float64 to the layer's dtype of float32, which is new behavior in TensorFlow 2.  The layer has dtype float32 because it's dtype defaults to floatx.\n",
      "\n",
      "If you intended to run this layer in float32, you can safely ignore this warning. If in doubt, this warning is likely only an issue if you are porting a TensorFlow 1.X model to TensorFlow 2.\n",
      "\n",
      "To change all layers to have dtype float64 by default, call `tf.keras.backend.set_floatx('float64')`. To change just this layer, pass dtype='float64' to the layer constructor. If you are the author of this layer, you can disable autocasting by passing autocast=False to the base Layer constructor.\n",
      "\n",
      "WARNING:tensorflow:Layer ae is casting an input tensor from dtype float64 to the layer's dtype of float32, which is new behavior in TensorFlow 2.  The layer has dtype float32 because it's dtype defaults to floatx.\n",
      "\n",
      "If you intended to run this layer in float32, you can safely ignore this warning. If in doubt, this warning is likely only an issue if you are porting a TensorFlow 1.X model to TensorFlow 2.\n",
      "\n",
      "To change all layers to have dtype float64 by default, call `tf.keras.backend.set_floatx('float64')`. To change just this layer, pass dtype='float64' to the layer constructor. If you are the author of this layer, you can disable autocasting by passing autocast=False to the base Layer constructor.\n",
      "\n",
      "Training loss (for one batch) at step 100: 379.17071533203125\n",
      "Seen so far: 6400 samples\n",
      "epoch:  1\n",
      "Training loss (for one batch) at step 100: 53.12582778930664\n",
      "Seen so far: 6400 samples\n",
      "epoch:  2\n",
      "Training loss (for one batch) at step 100: 40.62324142456055\n",
      "Seen so far: 6400 samples\n",
      "epoch:  3\n",
      "Training loss (for one batch) at step 100: 10.515316009521484\n",
      "Seen so far: 6400 samples\n",
      "epoch:  4\n",
      "Training loss (for one batch) at step 100: 9.761991500854492\n",
      "Seen so far: 6400 samples\n",
      "epoch:  5\n",
      "Training loss (for one batch) at step 100: 9.585405349731445\n",
      "Seen so far: 6400 samples\n",
      "epoch:  6\n",
      "Training loss (for one batch) at step 100: 8.767230987548828\n",
      "Seen so far: 6400 samples\n",
      "epoch:  7\n",
      "Training loss (for one batch) at step 100: 6.936396598815918\n",
      "Seen so far: 6400 samples\n",
      "epoch:  8\n",
      "Training loss (for one batch) at step 100: 5.667616844177246\n",
      "Seen so far: 6400 samples\n",
      "epoch:  9\n",
      "Training loss (for one batch) at step 100: 5.167285919189453\n",
      "Seen so far: 6400 samples\n"
     ]
    }
   ],
   "source": [
    "    mut_auto_encoder = VAE(latent_dim=model_config.encoder_latent_dimension,\n",
    "                           output_dim=data_provider.shape_dict['mut'],\n",
    "                           architecture=model_config.encoder_architecture,\n",
    "                           noise_fn=keras.layers.GaussianNoise,\n",
    "                           output_act_fn=keras.activations.relu,\n",
    "                           kernel_regularizer_l=model_config.kernel_regularizer_l)\n",
    "\n",
    "\n",
    "    mut_encoder, mut_pre_train_history_df = train.pre_train_mut_AE(auto_encoder=mut_auto_encoder,\n",
    "                                                                   reference_encoder=gex_encoder,\n",
    "                                                                   train_dataset=train_dataset,\n",
    "                                                                   val_dataset=val_dataset,\n",
    "                                                                    alpha=1.0,\n",
    "                                                                   max_epoch=10,transmitter_flag=True, \n",
    "                                                                   transmission_loss_fn=loss.mmd_loss)"
   ]
  },
  {
   "cell_type": "code",
   "execution_count": 66,
   "metadata": {},
   "outputs": [
    {
     "data": {
      "text/html": [
       "<div>\n",
       "<style scoped>\n",
       "    .dataframe tbody tr th:only-of-type {\n",
       "        vertical-align: middle;\n",
       "    }\n",
       "\n",
       "    .dataframe tbody tr th {\n",
       "        vertical-align: top;\n",
       "    }\n",
       "\n",
       "    .dataframe thead th {\n",
       "        text-align: right;\n",
       "    }\n",
       "</style>\n",
       "<table border=\"1\" class=\"dataframe\">\n",
       "  <thead>\n",
       "    <tr style=\"text-align: right;\">\n",
       "      <th></th>\n",
       "      <th>train_critic_loss</th>\n",
       "      <th>val_critic_loss</th>\n",
       "      <th>train_gen_loss</th>\n",
       "      <th>val_gen_loss</th>\n",
       "    </tr>\n",
       "  </thead>\n",
       "  <tbody>\n",
       "    <tr>\n",
       "      <th>0</th>\n",
       "      <td>(tf.Tensor(0.20437267, shape=(), dtype=float32))</td>\n",
       "      <td>(tf.Tensor(-0.04714127, shape=(), dtype=float32))</td>\n",
       "      <td>(tf.Tensor(0.8802483, shape=(), dtype=float32))</td>\n",
       "      <td>(tf.Tensor(0.80933356, shape=(), dtype=float32))</td>\n",
       "    </tr>\n",
       "    <tr>\n",
       "      <th>1</th>\n",
       "      <td>(tf.Tensor(-0.45044205, shape=(), dtype=float32))</td>\n",
       "      <td>(tf.Tensor(-0.5311942, shape=(), dtype=float32))</td>\n",
       "      <td>(tf.Tensor(1.0597901, shape=(), dtype=float32))</td>\n",
       "      <td>(tf.Tensor(0.9475654, shape=(), dtype=float32))</td>\n",
       "    </tr>\n",
       "    <tr>\n",
       "      <th>2</th>\n",
       "      <td>(tf.Tensor(-0.7121224, shape=(), dtype=float32))</td>\n",
       "      <td>(tf.Tensor(-0.6867938, shape=(), dtype=float32))</td>\n",
       "      <td>(tf.Tensor(0.9045727, shape=(), dtype=float32))</td>\n",
       "      <td>(tf.Tensor(0.725064, shape=(), dtype=float32))</td>\n",
       "    </tr>\n",
       "    <tr>\n",
       "      <th>3</th>\n",
       "      <td>(tf.Tensor(-0.61170673, shape=(), dtype=float32))</td>\n",
       "      <td>(tf.Tensor(-0.7681342, shape=(), dtype=float32))</td>\n",
       "      <td>(tf.Tensor(0.49292347, shape=(), dtype=float32))</td>\n",
       "      <td>(tf.Tensor(0.5959706, shape=(), dtype=float32))</td>\n",
       "    </tr>\n",
       "    <tr>\n",
       "      <th>4</th>\n",
       "      <td>(tf.Tensor(-0.5107585, shape=(), dtype=float32))</td>\n",
       "      <td>(tf.Tensor(-0.7284197, shape=(), dtype=float32))</td>\n",
       "      <td>(tf.Tensor(0.22489259, shape=(), dtype=float32))</td>\n",
       "      <td>(tf.Tensor(0.4130656, shape=(), dtype=float32))</td>\n",
       "    </tr>\n",
       "    <tr>\n",
       "      <th>5</th>\n",
       "      <td>(tf.Tensor(-0.43497014, shape=(), dtype=float32))</td>\n",
       "      <td>(tf.Tensor(-0.6129674, shape=(), dtype=float32))</td>\n",
       "      <td>(tf.Tensor(0.07060111, shape=(), dtype=float32))</td>\n",
       "      <td>(tf.Tensor(0.26666594, shape=(), dtype=float32))</td>\n",
       "    </tr>\n",
       "    <tr>\n",
       "      <th>6</th>\n",
       "      <td>(tf.Tensor(-0.3783109, shape=(), dtype=float32))</td>\n",
       "      <td>(tf.Tensor(-0.5150697, shape=(), dtype=float32))</td>\n",
       "      <td>(tf.Tensor(0.00027924284, shape=(), dtype=floa...</td>\n",
       "      <td>(tf.Tensor(0.14890125, shape=(), dtype=float32))</td>\n",
       "    </tr>\n",
       "    <tr>\n",
       "      <th>7</th>\n",
       "      <td>(tf.Tensor(-0.32831725, shape=(), dtype=float32))</td>\n",
       "      <td>(tf.Tensor(-0.480813, shape=(), dtype=float32))</td>\n",
       "      <td>(tf.Tensor(-0.07807234, shape=(), dtype=float32))</td>\n",
       "      <td>(tf.Tensor(0.088995546, shape=(), dtype=float32))</td>\n",
       "    </tr>\n",
       "    <tr>\n",
       "      <th>8</th>\n",
       "      <td>(tf.Tensor(-0.2800187, shape=(), dtype=float32))</td>\n",
       "      <td>(tf.Tensor(-0.4700003, shape=(), dtype=float32))</td>\n",
       "      <td>(tf.Tensor(-0.13195986, shape=(), dtype=float32))</td>\n",
       "      <td>(tf.Tensor(0.04909978, shape=(), dtype=float32))</td>\n",
       "    </tr>\n",
       "    <tr>\n",
       "      <th>9</th>\n",
       "      <td>(tf.Tensor(-0.24940105, shape=(), dtype=float32))</td>\n",
       "      <td>(tf.Tensor(-0.4172023, shape=(), dtype=float32))</td>\n",
       "      <td>(tf.Tensor(-0.20453192, shape=(), dtype=float32))</td>\n",
       "      <td>(tf.Tensor(-0.023969717, shape=(), dtype=float...</td>\n",
       "    </tr>\n",
       "  </tbody>\n",
       "</table>\n",
       "</div>"
      ],
      "text/plain": [
       "                                   train_critic_loss  \\\n",
       "0   (tf.Tensor(0.20437267, shape=(), dtype=float32))   \n",
       "1  (tf.Tensor(-0.45044205, shape=(), dtype=float32))   \n",
       "2   (tf.Tensor(-0.7121224, shape=(), dtype=float32))   \n",
       "3  (tf.Tensor(-0.61170673, shape=(), dtype=float32))   \n",
       "4   (tf.Tensor(-0.5107585, shape=(), dtype=float32))   \n",
       "5  (tf.Tensor(-0.43497014, shape=(), dtype=float32))   \n",
       "6   (tf.Tensor(-0.3783109, shape=(), dtype=float32))   \n",
       "7  (tf.Tensor(-0.32831725, shape=(), dtype=float32))   \n",
       "8   (tf.Tensor(-0.2800187, shape=(), dtype=float32))   \n",
       "9  (tf.Tensor(-0.24940105, shape=(), dtype=float32))   \n",
       "\n",
       "                                     val_critic_loss  \\\n",
       "0  (tf.Tensor(-0.04714127, shape=(), dtype=float32))   \n",
       "1   (tf.Tensor(-0.5311942, shape=(), dtype=float32))   \n",
       "2   (tf.Tensor(-0.6867938, shape=(), dtype=float32))   \n",
       "3   (tf.Tensor(-0.7681342, shape=(), dtype=float32))   \n",
       "4   (tf.Tensor(-0.7284197, shape=(), dtype=float32))   \n",
       "5   (tf.Tensor(-0.6129674, shape=(), dtype=float32))   \n",
       "6   (tf.Tensor(-0.5150697, shape=(), dtype=float32))   \n",
       "7    (tf.Tensor(-0.480813, shape=(), dtype=float32))   \n",
       "8   (tf.Tensor(-0.4700003, shape=(), dtype=float32))   \n",
       "9   (tf.Tensor(-0.4172023, shape=(), dtype=float32))   \n",
       "\n",
       "                                      train_gen_loss  \\\n",
       "0    (tf.Tensor(0.8802483, shape=(), dtype=float32))   \n",
       "1    (tf.Tensor(1.0597901, shape=(), dtype=float32))   \n",
       "2    (tf.Tensor(0.9045727, shape=(), dtype=float32))   \n",
       "3   (tf.Tensor(0.49292347, shape=(), dtype=float32))   \n",
       "4   (tf.Tensor(0.22489259, shape=(), dtype=float32))   \n",
       "5   (tf.Tensor(0.07060111, shape=(), dtype=float32))   \n",
       "6  (tf.Tensor(0.00027924284, shape=(), dtype=floa...   \n",
       "7  (tf.Tensor(-0.07807234, shape=(), dtype=float32))   \n",
       "8  (tf.Tensor(-0.13195986, shape=(), dtype=float32))   \n",
       "9  (tf.Tensor(-0.20453192, shape=(), dtype=float32))   \n",
       "\n",
       "                                        val_gen_loss  \n",
       "0   (tf.Tensor(0.80933356, shape=(), dtype=float32))  \n",
       "1    (tf.Tensor(0.9475654, shape=(), dtype=float32))  \n",
       "2     (tf.Tensor(0.725064, shape=(), dtype=float32))  \n",
       "3    (tf.Tensor(0.5959706, shape=(), dtype=float32))  \n",
       "4    (tf.Tensor(0.4130656, shape=(), dtype=float32))  \n",
       "5   (tf.Tensor(0.26666594, shape=(), dtype=float32))  \n",
       "6   (tf.Tensor(0.14890125, shape=(), dtype=float32))  \n",
       "7  (tf.Tensor(0.088995546, shape=(), dtype=float32))  \n",
       "8   (tf.Tensor(0.04909978, shape=(), dtype=float32))  \n",
       "9  (tf.Tensor(-0.023969717, shape=(), dtype=float...  "
      ]
     },
     "execution_count": 66,
     "metadata": {},
     "output_type": "execute_result"
    }
   ],
   "source": [
    "mut_pre_train_history_df"
   ]
  },
  {
   "cell_type": "code",
   "execution_count": null,
   "metadata": {
    "collapsed": true
   },
   "outputs": [],
   "source": []
  },
  {
   "cell_type": "code",
   "execution_count": 10,
   "metadata": {
    "collapsed": true
   },
   "outputs": [
    {
     "name": "stdout",
     "output_type": "stream",
     "text": [
      "saved_weights/mut/stochastic_512_256_128_128_encoder_weights exists!\n",
      "Training loss  at epoch 1: 0.11664070934057236\n",
      "Training loss  at epoch 2: 0.11536093801259995\n",
      "Training loss  at epoch 3: 0.1143752783536911\n",
      "Training loss  at epoch 4: 0.11386947333812714\n",
      "Training loss  at epoch 5: 0.1156018078327179\n",
      "Training loss  at epoch 6: 0.11234379559755325\n",
      "Training loss  at epoch 7: 0.11169333755970001\n",
      "Training loss  at epoch 8: 0.11181369423866272\n",
      "Training loss  at epoch 9: 0.11091454327106476\n",
      "Training loss  at epoch 10: 0.11065603792667389\n",
      "Training loss  at epoch 11: 0.11013974249362946\n",
      "Training loss  at epoch 12: 0.11117275059223175\n",
      "Training loss  at epoch 13: 0.10996219515800476\n",
      "Training loss  at epoch 14: 0.10739657282829285\n",
      "Training loss  at epoch 15: 0.1079382449388504\n",
      "Training loss  at epoch 16: 0.107058584690094\n",
      "WARNING:tensorflow:Gradients do not exist for variables ['encoder/dense_16/kernel:0', 'encoder/dense_16/bias:0'] when minimizing the loss.\n",
      "WARNING:tensorflow:Gradients do not exist for variables ['encoder/dense_16/kernel:0', 'encoder/dense_16/bias:0'] when minimizing the loss.\n",
      "WARNING:tensorflow:Gradients do not exist for variables ['encoder/dense_16/kernel:0', 'encoder/dense_16/bias:0'] when minimizing the loss.\n",
      "WARNING:tensorflow:Gradients do not exist for variables ['encoder/dense_16/kernel:0', 'encoder/dense_16/bias:0'] when minimizing the loss.\n",
      "WARNING:tensorflow:Gradients do not exist for variables ['encoder/dense_16/kernel:0', 'encoder/dense_16/bias:0'] when minimizing the loss.\n",
      "WARNING:tensorflow:Gradients do not exist for variables ['encoder/dense_16/kernel:0', 'encoder/dense_16/bias:0'] when minimizing the loss.\n",
      "WARNING:tensorflow:Gradients do not exist for variables ['encoder/dense_16/kernel:0', 'encoder/dense_16/bias:0'] when minimizing the loss.\n",
      "WARNING:tensorflow:Gradients do not exist for variables ['encoder/dense_16/kernel:0', 'encoder/dense_16/bias:0'] when minimizing the loss.\n",
      "Training loss  at epoch 17: 0.10744142532348633\n",
      "WARNING:tensorflow:Gradients do not exist for variables ['encoder/dense_16/kernel:0', 'encoder/dense_16/bias:0'] when minimizing the loss.\n",
      "WARNING:tensorflow:Gradients do not exist for variables ['encoder/dense_16/kernel:0', 'encoder/dense_16/bias:0'] when minimizing the loss.\n",
      "WARNING:tensorflow:Gradients do not exist for variables ['encoder/dense_16/kernel:0', 'encoder/dense_16/bias:0'] when minimizing the loss.\n",
      "WARNING:tensorflow:Gradients do not exist for variables ['encoder/dense_16/kernel:0', 'encoder/dense_16/bias:0'] when minimizing the loss.\n",
      "WARNING:tensorflow:Gradients do not exist for variables ['encoder/dense_16/kernel:0', 'encoder/dense_16/bias:0'] when minimizing the loss.\n",
      "WARNING:tensorflow:Gradients do not exist for variables ['encoder/dense_16/kernel:0', 'encoder/dense_16/bias:0'] when minimizing the loss.\n",
      "WARNING:tensorflow:Gradients do not exist for variables ['encoder/dense_16/kernel:0', 'encoder/dense_16/bias:0'] when minimizing the loss.\n",
      "WARNING:tensorflow:Gradients do not exist for variables ['encoder/dense_16/kernel:0', 'encoder/dense_16/bias:0'] when minimizing the loss.\n",
      "Training loss  at epoch 18: 0.10544457286596298\n",
      "WARNING:tensorflow:Gradients do not exist for variables ['encoder/dense_16/kernel:0', 'encoder/dense_16/bias:0'] when minimizing the loss.\n",
      "WARNING:tensorflow:Gradients do not exist for variables ['encoder/dense_16/kernel:0', 'encoder/dense_16/bias:0'] when minimizing the loss.\n",
      "WARNING:tensorflow:Gradients do not exist for variables ['encoder/dense_16/kernel:0', 'encoder/dense_16/bias:0'] when minimizing the loss.\n",
      "WARNING:tensorflow:Gradients do not exist for variables ['encoder/dense_16/kernel:0', 'encoder/dense_16/bias:0'] when minimizing the loss.\n",
      "WARNING:tensorflow:Gradients do not exist for variables ['encoder/dense_16/kernel:0', 'encoder/dense_16/bias:0'] when minimizing the loss.\n",
      "WARNING:tensorflow:Gradients do not exist for variables ['encoder/dense_16/kernel:0', 'encoder/dense_16/bias:0'] when minimizing the loss.\n",
      "WARNING:tensorflow:Gradients do not exist for variables ['encoder/dense_16/kernel:0', 'encoder/dense_16/bias:0'] when minimizing the loss.\n",
      "WARNING:tensorflow:Gradients do not exist for variables ['encoder/dense_16/kernel:0', 'encoder/dense_16/bias:0'] when minimizing the loss.\n",
      "Training loss  at epoch 19: 0.10380871593952179\n",
      "WARNING:tensorflow:Gradients do not exist for variables ['encoder/dense_16/kernel:0', 'encoder/dense_16/bias:0'] when minimizing the loss.\n",
      "WARNING:tensorflow:Gradients do not exist for variables ['encoder/dense_16/kernel:0', 'encoder/dense_16/bias:0'] when minimizing the loss.\n",
      "WARNING:tensorflow:Gradients do not exist for variables ['encoder/dense_16/kernel:0', 'encoder/dense_16/bias:0'] when minimizing the loss.\n",
      "WARNING:tensorflow:Gradients do not exist for variables ['encoder/dense_16/kernel:0', 'encoder/dense_16/bias:0'] when minimizing the loss.\n",
      "WARNING:tensorflow:Gradients do not exist for variables ['encoder/dense_16/kernel:0', 'encoder/dense_16/bias:0'] when minimizing the loss.\n",
      "WARNING:tensorflow:Gradients do not exist for variables ['encoder/dense_16/kernel:0', 'encoder/dense_16/bias:0'] when minimizing the loss.\n",
      "WARNING:tensorflow:Gradients do not exist for variables ['encoder/dense_16/kernel:0', 'encoder/dense_16/bias:0'] when minimizing the loss.\n",
      "WARNING:tensorflow:Gradients do not exist for variables ['encoder/dense_16/kernel:0', 'encoder/dense_16/bias:0'] when minimizing the loss.\n",
      "Training loss  at epoch 20: 0.10388728231191635\n"
     ]
    }
   ],
   "source": [
    "    train_dataset = tf.data.Dataset.from_tensor_slices(\n",
    "        (data_provider.labeled_data['mut'].iloc[data_provider.get_k_folds()[i][0]].values,\n",
    "         data_provider.labeled_data['target'].iloc[data_provider.get_k_folds()[i][0]].values))\n",
    "    val_dataset = tf.data.Dataset.from_tensor_slices(\n",
    "        (data_provider.labeled_data['mut'].iloc[data_provider.get_k_folds()[i][1]].values,\n",
    "         data_provider.labeled_data['target'].iloc[data_provider.get_k_folds()[i][1]].values))\n",
    "\n",
    "    mut_fine_tune_train_history, mut_fine_tune_validation_history = train.fine_tune_mut_encoder(\n",
    "        encoder=mut_encoder,\n",
    "        train_dataset=train_dataset,\n",
    "        val_dataset=val_dataset\n",
    "    )"
   ]
  },
  {
   "cell_type": "code",
   "execution_count": 11,
   "metadata": {
    "collapsed": true
   },
   "outputs": [
    {
     "data": {
      "text/plain": [
       "defaultdict(list,\n",
       "            {'loss': [<tf.Tensor: shape=(), dtype=float32, numpy=0.12869912>,\n",
       "              <tf.Tensor: shape=(), dtype=float32, numpy=0.1283867>,\n",
       "              <tf.Tensor: shape=(), dtype=float32, numpy=0.12805432>,\n",
       "              <tf.Tensor: shape=(), dtype=float32, numpy=0.12770306>,\n",
       "              <tf.Tensor: shape=(), dtype=float32, numpy=0.12738651>,\n",
       "              <tf.Tensor: shape=(), dtype=float32, numpy=0.12701736>,\n",
       "              <tf.Tensor: shape=(), dtype=float32, numpy=0.12665531>,\n",
       "              <tf.Tensor: shape=(), dtype=float32, numpy=0.1262656>,\n",
       "              <tf.Tensor: shape=(), dtype=float32, numpy=0.12585837>,\n",
       "              <tf.Tensor: shape=(), dtype=float32, numpy=0.1254951>,\n",
       "              <tf.Tensor: shape=(), dtype=float32, numpy=0.12508859>,\n",
       "              <tf.Tensor: shape=(), dtype=float32, numpy=0.12476194>,\n",
       "              <tf.Tensor: shape=(), dtype=float32, numpy=0.12434051>,\n",
       "              <tf.Tensor: shape=(), dtype=float32, numpy=0.12390545>,\n",
       "              <tf.Tensor: shape=(), dtype=float32, numpy=0.12345095>,\n",
       "              <tf.Tensor: shape=(), dtype=float32, numpy=0.123081714>,\n",
       "              <tf.Tensor: shape=(), dtype=float32, numpy=0.122687>,\n",
       "              <tf.Tensor: shape=(), dtype=float32, numpy=0.122273505>,\n",
       "              <tf.Tensor: shape=(), dtype=float32, numpy=0.121773444>,\n",
       "              <tf.Tensor: shape=(), dtype=float32, numpy=0.12130363>],\n",
       "             'pearson': [<tf.Tensor: shape=(), dtype=float32, numpy=0.015999>,\n",
       "              <tf.Tensor: shape=(), dtype=float32, numpy=0.017527062>,\n",
       "              <tf.Tensor: shape=(), dtype=float32, numpy=0.018186983>,\n",
       "              <tf.Tensor: shape=(), dtype=float32, numpy=0.020137683>,\n",
       "              <tf.Tensor: shape=(), dtype=float32, numpy=0.021642141>,\n",
       "              <tf.Tensor: shape=(), dtype=float32, numpy=0.024940155>,\n",
       "              <tf.Tensor: shape=(), dtype=float32, numpy=0.027217746>,\n",
       "              <tf.Tensor: shape=(), dtype=float32, numpy=0.030539293>,\n",
       "              <tf.Tensor: shape=(), dtype=float32, numpy=0.033013217>,\n",
       "              <tf.Tensor: shape=(), dtype=float32, numpy=0.035107173>,\n",
       "              <tf.Tensor: shape=(), dtype=float32, numpy=0.036724165>,\n",
       "              <tf.Tensor: shape=(), dtype=float32, numpy=0.038109858>,\n",
       "              <tf.Tensor: shape=(), dtype=float32, numpy=0.042541575>,\n",
       "              <tf.Tensor: shape=(), dtype=float32, numpy=0.045318954>,\n",
       "              <tf.Tensor: shape=(), dtype=float32, numpy=0.04197654>,\n",
       "              <tf.Tensor: shape=(), dtype=float32, numpy=0.043104615>,\n",
       "              <tf.Tensor: shape=(), dtype=float32, numpy=0.022457125>,\n",
       "              <tf.Tensor: shape=(), dtype=float32, numpy=0.007980481>,\n",
       "              <tf.Tensor: shape=(), dtype=float32, numpy=-0.002898077>,\n",
       "              <tf.Tensor: shape=(), dtype=float32, numpy=-0.021954097>],\n",
       "             'spearman': [<tf.Tensor: shape=(), dtype=float32, numpy=-0.00037381193>,\n",
       "              <tf.Tensor: shape=(), dtype=float32, numpy=-0.0011797203>,\n",
       "              <tf.Tensor: shape=(), dtype=float32, numpy=0.0010365997>,\n",
       "              <tf.Tensor: shape=(), dtype=float32, numpy=0.0022508968>,\n",
       "              <tf.Tensor: shape=(), dtype=float32, numpy=0.004361705>,\n",
       "              <tf.Tensor: shape=(), dtype=float32, numpy=0.0045462744>,\n",
       "              <tf.Tensor: shape=(), dtype=float32, numpy=0.005860395>,\n",
       "              <tf.Tensor: shape=(), dtype=float32, numpy=0.004195505>,\n",
       "              <tf.Tensor: shape=(), dtype=float32, numpy=0.0036114035>,\n",
       "              <tf.Tensor: shape=(), dtype=float32, numpy=0.00017047534>,\n",
       "              <tf.Tensor: shape=(), dtype=float32, numpy=0.0013747951>,\n",
       "              <tf.Tensor: shape=(), dtype=float32, numpy=0.0009051964>,\n",
       "              <tf.Tensor: shape=(), dtype=float32, numpy=-0.00021152827>,\n",
       "              <tf.Tensor: shape=(), dtype=float32, numpy=0.00451895>,\n",
       "              <tf.Tensor: shape=(), dtype=float32, numpy=0.0005023177>,\n",
       "              <tf.Tensor: shape=(), dtype=float32, numpy=0.010075933>,\n",
       "              <tf.Tensor: shape=(), dtype=float32, numpy=-0.0030829478>,\n",
       "              <tf.Tensor: shape=(), dtype=float32, numpy=-0.021795187>,\n",
       "              <tf.Tensor: shape=(), dtype=float32, numpy=-0.052686904>,\n",
       "              <tf.Tensor: shape=(), dtype=float32, numpy=-0.06639387>],\n",
       "             'mse': [<tf.Tensor: shape=(), dtype=float32, numpy=0.13206862>,\n",
       "              <tf.Tensor: shape=(), dtype=float32, numpy=0.13174894>,\n",
       "              <tf.Tensor: shape=(), dtype=float32, numpy=0.13140886>,\n",
       "              <tf.Tensor: shape=(), dtype=float32, numpy=0.13104948>,\n",
       "              <tf.Tensor: shape=(), dtype=float32, numpy=0.13072555>,\n",
       "              <tf.Tensor: shape=(), dtype=float32, numpy=0.1303478>,\n",
       "              <tf.Tensor: shape=(), dtype=float32, numpy=0.12997735>,\n",
       "              <tf.Tensor: shape=(), dtype=float32, numpy=0.12957855>,\n",
       "              <tf.Tensor: shape=(), dtype=float32, numpy=0.12916178>,\n",
       "              <tf.Tensor: shape=(), dtype=float32, numpy=0.12879>,\n",
       "              <tf.Tensor: shape=(), dtype=float32, numpy=0.12837388>,\n",
       "              <tf.Tensor: shape=(), dtype=float32, numpy=0.12803945>,\n",
       "              <tf.Tensor: shape=(), dtype=float32, numpy=0.12760815>,\n",
       "              <tf.Tensor: shape=(), dtype=float32, numpy=0.12716283>,\n",
       "              <tf.Tensor: shape=(), dtype=float32, numpy=0.12669757>,\n",
       "              <tf.Tensor: shape=(), dtype=float32, numpy=0.12631974>,\n",
       "              <tf.Tensor: shape=(), dtype=float32, numpy=0.12591587>,\n",
       "              <tf.Tensor: shape=(), dtype=float32, numpy=0.12549292>,\n",
       "              <tf.Tensor: shape=(), dtype=float32, numpy=0.12498151>,\n",
       "              <tf.Tensor: shape=(), dtype=float32, numpy=0.124500886>],\n",
       "             'mae': [<tf.Tensor: shape=(), dtype=float32, numpy=0.335742>,\n",
       "              <tf.Tensor: shape=(), dtype=float32, numpy=0.33532244>,\n",
       "              <tf.Tensor: shape=(), dtype=float32, numpy=0.33487618>,\n",
       "              <tf.Tensor: shape=(), dtype=float32, numpy=0.33440337>,\n",
       "              <tf.Tensor: shape=(), dtype=float32, numpy=0.33397627>,\n",
       "              <tf.Tensor: shape=(), dtype=float32, numpy=0.3334779>,\n",
       "              <tf.Tensor: shape=(), dtype=float32, numpy=0.3329876>,\n",
       "              <tf.Tensor: shape=(), dtype=float32, numpy=0.3324594>,\n",
       "              <tf.Tensor: shape=(), dtype=float32, numpy=0.33190596>,\n",
       "              <tf.Tensor: shape=(), dtype=float32, numpy=0.33141166>,\n",
       "              <tf.Tensor: shape=(), dtype=float32, numpy=0.3308574>,\n",
       "              <tf.Tensor: shape=(), dtype=float32, numpy=0.330411>,\n",
       "              <tf.Tensor: shape=(), dtype=float32, numpy=0.3298347>,\n",
       "              <tf.Tensor: shape=(), dtype=float32, numpy=0.3292386>,\n",
       "              <tf.Tensor: shape=(), dtype=float32, numpy=0.3286157>,\n",
       "              <tf.Tensor: shape=(), dtype=float32, numpy=0.3281088>,\n",
       "              <tf.Tensor: shape=(), dtype=float32, numpy=0.32756627>,\n",
       "              <tf.Tensor: shape=(), dtype=float32, numpy=0.32699406>,\n",
       "              <tf.Tensor: shape=(), dtype=float32, numpy=0.32630366>,\n",
       "              <tf.Tensor: shape=(), dtype=float32, numpy=0.32564917>]})"
      ]
     },
     "execution_count": 11,
     "metadata": {},
     "output_type": "execute_result"
    }
   ],
   "source": [
    "mut_fine_tune_validation_history"
   ]
  },
  {
   "cell_type": "code",
   "execution_count": null,
   "metadata": {},
   "outputs": [],
   "source": []
  },
  {
   "cell_type": "code",
   "execution_count": 176,
   "metadata": {},
   "outputs": [],
   "source": [
    "history = []\n",
    "with open('history/history.pkl', 'rb') as fr:\n",
    "    try:\n",
    "        while True:\n",
    "            history.append(pickle.load(fr))\n",
    "    except EOFError:\n",
    "        pass"
   ]
  },
  {
   "cell_type": "code",
   "execution_count": 188,
   "metadata": {},
   "outputs": [
    {
     "data": {
      "text/plain": [
       "[<matplotlib.lines.Line2D at 0x14da07950>]"
      ]
     },
     "execution_count": 188,
     "metadata": {},
     "output_type": "execute_result"
    },
    {
     "data": {
      "image/png": "[encoded data removed]",
      "text/plain": [
       "<Figure size 432x288 with 1 Axes>"
      ]
     },
     "metadata": {
      "needs_background": "light"
     },
     "output_type": "display_data"
    }
   ],
   "source": [
    "plt.plot(history[2].val_mse, color='b')\n",
    "plt.plot(history[2].train_mse, color='r')\n"
   ]
  },
  {
   "cell_type": "code",
   "execution_count": 129,
   "metadata": {},
   "outputs": [],
   "source": [
    "import matplotlib.pyplot as plt\n",
    "import seaborn as sns"
   ]
  },
  {
   "cell_type": "code",
   "execution_count": null,
   "metadata": {},
   "outputs": [],
   "source": []
  },
  {
   "cell_type": "code",
   "execution_count": 200,
   "metadata": {},
   "outputs": [
    {
     "data": {
      "text/plain": [
       "array([[0.70159736, 0.179602  , 0.33318275, ..., 0.51256242, 0.47036447,\n",
       "        0.9937154 ],\n",
       "       [0.31469256, 0.58805247, 0.59364093, ..., 0.72506927, 0.64276533,\n",
       "        0.82570807],\n",
       "       [0.35929273, 0.52077348, 0.13803558, ..., 0.01284371, 0.43035379,\n",
       "        0.39173434],\n",
       "       ...,\n",
       "       [0.00628688, 0.07670195, 0.28944139, ..., 0.95180348, 0.20522653,\n",
       "        0.29741168],\n",
       "       [0.32665958, 0.07113801, 0.99928565, ..., 0.48842697, 0.32184778,\n",
       "        0.44613901],\n",
       "       [0.75423572, 0.12757566, 0.79627388, ..., 0.3180515 , 0.81008642,\n",
       "        0.41665402]])"
      ]
     },
     "execution_count": 200,
     "metadata": {},
     "output_type": "execute_result"
    }
   ],
   "source": [
    "np.random.uniform(size=data_provider.labeled_data['target'].shape)"
   ]
  },
  {
   "cell_type": "code",
   "execution_count": 255,
   "metadata": {},
   "outputs": [],
   "source": [
    "\n",
    "import numpy as np\n",
    "import pandas as pd\n",
    "import seaborn as sns\n",
    "from scipy.stats import pearsonr, spearmanr\n",
    "from sklearn.metrics import mean_squared_error, r2_score\n",
    "from math import sqrt\n",
    "from collections import defaultdict\n",
    "\n",
    "truth_df = data_provider.labeled_data['target']\n",
    "\n",
    "pred_df = pd.read_csv('./predictions/AUC_enet_gex_True_FILE_multi_regression_5fold_prediction.csv', index_col=0)\n",
    "pred_df = pred_df.loc[truth_df.index]\n",
    "\n",
    "# random_guess_base_df = pd.DataFrame(np.full_like(truth_df, fill_value=-1),\n",
    "#                                       index=truth_df.index,\n",
    "#                                       columns=truth_df.columns)\n",
    "# random_guess_base_df = random_guess_base_df.assign(**truth_df.mean().to_dict())\n",
    "\n",
    "# pred_df = pd.DataFrame(np.random.uniform(size=truth_df.shape),\n",
    "#                                       index=truth_df.index,\n",
    "#                                       columns=truth_df.columns)\n",
    "\n",
    "\n",
    "\n"
   ]
  },
  {
   "cell_type": "code",
   "execution_count": 256,
   "metadata": {},
   "outputs": [
    {
     "data": {
      "text/plain": [
       "<module 'evaluate' from '/Users/hedi/PycharmProjects/CLRN/evaluate.py'>"
      ]
     },
     "execution_count": 256,
     "metadata": {},
     "output_type": "execute_result"
    }
   ],
   "source": [
    "importlib.reload(evaluate)"
   ]
  },
  {
   "cell_type": "code",
   "execution_count": null,
   "metadata": {},
   "outputs": [],
   "source": []
  },
  {
   "cell_type": "code",
   "execution_count": 257,
   "metadata": {},
   "outputs": [],
   "source": [
    "result_df = evaluate.cell_wise_evaluation(truth_df=truth_df, pred_df=pred_df)"
   ]
  },
  {
   "cell_type": "code",
   "execution_count": 258,
   "metadata": {},
   "outputs": [
    {
     "data": {
      "text/plain": [
       "pearson     0.690688\n",
       "spearman    0.673568\n",
       "rmse        0.153479\n",
       "r2          0.319175\n",
       "dtype: float64"
      ]
     },
     "execution_count": 258,
     "metadata": {},
     "output_type": "execute_result"
    }
   ],
   "source": [
    "result_df.mean()"
   ]
  },
  {
   "cell_type": "code",
   "execution_count": null,
   "metadata": {},
   "outputs": [],
   "source": []
  },
  {
   "cell_type": "code",
   "execution_count": null,
   "metadata": {},
   "outputs": [],
   "source": []
  },
  {
   "cell_type": "code",
   "execution_count": null,
   "metadata": {
    "collapsed": true
   },
   "outputs": [],
   "source": [
    "per_cell_measurement = defaultdict(dict)\n",
    "k_vecs = [1, 3, 5, 10]\n",
    "for k in k_vecs:\n",
    "    for cell in truth_df.index:\n",
    "        drugs = truth_df.columns[~truth_df.loc[cell].isna()]\n",
    "        if len(drugs) < k:\n",
    "            per_cell_measurement[k][cell] = None\n",
    "            \n",
    "        else:\n",
    "            topk_truth = truth_df.loc[cell, drugs].nlargest(k).index\n",
    "            topk_pred = pred_df.loc[cell, :].nlargest(k).index\n",
    "            per_cell_measurement[k][cell] = len(topk_truth.intersection(topk_pred))/k\n",
    "\n",
    "\n",
    "\n",
    "per_cell_measurement_df = pd.DataFrame.from_dict(per_cell_measurement)\n",
    "\n",
    "per_cell_measurement_df.head()\n",
    "\n",
    "sns.distplot(per_cell_measurement_df[1].dropna())\n",
    "\n",
    "\n",
    "\n"
   ]
  },
  {
   "cell_type": "code",
   "execution_count": null,
   "metadata": {
    "collapsed": true
   },
   "outputs": [],
   "source": [
    "per_cell_measurement_df.mean()"
   ]
  },
  {
   "cell_type": "code",
   "execution_count": null,
   "metadata": {
    "collapsed": true
   },
   "outputs": [],
   "source": [
    "result_df = per_cell_measurement_df.mean()\n",
    "result_df = result_df.reset_index()\n",
    "result_df.columns = ['k', 'precision']\n",
    "result_df['method'] = 'rf'\n",
    "\n",
    "result_df\n",
    "\n",
    "#plot_df = result_df.copy()\n",
    "\n",
    "\n",
    "plot_df = plot_df.append(result_df)\n",
    "\n",
    "\n",
    "plot_df.columns = ['k', 'precision', 'method']\n",
    "\n",
    "g = sns.catplot(data=plot_df, col='k', col_wrap=2, x='method', y='precision',kind='bar')\n",
    "\n",
    "g.savefig('topk_precision_placehold.png')"
   ]
  }
 ],
 "metadata": {
  "kernelspec": {
   "display_name": "Python 3",
   "language": "python",
   "name": "python3"
  },
  "language_info": {
   "codemirror_mode": {
    "name": "ipython",
    "version": 3
   },
   "file_extension": ".py",
   "mimetype": "text/x-python",
   "name": "python",
   "nbconvert_exporter": "python",
   "pygments_lexer": "ipython3",
   "version": "3.7.5"
  },
  "pycharm": {
   "stem_cell": {
    "cell_type": "raw",
    "metadata": {
     "collapsed": false
    },
    "source": []
   }
  }
 },
 "nbformat": 4,
 "nbformat_minor": 1
}
